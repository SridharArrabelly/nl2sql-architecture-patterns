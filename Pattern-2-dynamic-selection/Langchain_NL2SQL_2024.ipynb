{
 "cells": [
  {
   "cell_type": "markdown",
   "metadata": {
    "colab_type": "text",
    "id": "view-in-github"
   },
   "source": [
    "<a href=\"https://colab.research.google.com/github/PradipNichite/Youtube-Tutorials/blob/main/Langchain_NL2SQL_2024.ipynb\" target=\"_parent\"><img src=\"https://colab.research.google.com/assets/colab-badge.svg\" alt=\"Open In Colab\"/></a>"
   ]
  },
  {
   "cell_type": "markdown",
   "metadata": {
    "id": "l4gH0BcahHO6"
   },
   "source": [
    "https://www.aidemos.com/\n",
    "\n",
    "[Discover Best AI Tools with Video Demos](https://www.aidemos.com/)\n"
   ]
  },
  {
   "cell_type": "markdown",
   "metadata": {
    "id": "up5XHcGdVon2"
   },
   "source": [
    "\n",
    "1. Building a basic NL2SQL model\n",
    "2. Adding few-shot examples\n",
    "3. Dynamic few-shot example selection\n",
    "4. Dynamic relevant table selection (Large DB Isssue)\n",
    "5. Customizing prompts\n",
    "6. Adding memory to the chatbot so that it answers follow-up questions related to the database."
   ]
  },
  {
   "cell_type": "markdown",
   "metadata": {},
   "source": [
    "https://github.com/PradipNichite/Youtube-Tutorials/blob/main/Langchain_NL2SQL_2024.ipynb\n"
   ]
  },
  {
   "cell_type": "code",
   "execution_count": null,
   "metadata": {
    "id": "HUShN3Sm0Lr0",
    "metadata": {}
   },
   "outputs": [],
   "source": [
    "#!pip install langchain_openai langchain_community langchain langchain-experimental pymysql chromadb -q\n"
   ]
  },
  {
   "cell_type": "code",
   "execution_count": null,
   "metadata": {
    "metadata": {}
   },
   "outputs": [],
   "source": [
    "#pip install -U langsmith\n"
   ]
  },
  {
   "cell_type": "markdown",
   "metadata": {
    "id": "zROkmBChhBWy"
   },
   "source": [
    "https://www.mysqltutorial.org/getting-started-with-mysql/mysql-sample-database/"
   ]
  },
  {
   "cell_type": "code",
   "execution_count": null,
   "metadata": {
    "metadata": {}
   },
   "outputs": [],
   "source": [
    "#%pip install python-dotenv\n"
   ]
  },
  {
   "cell_type": "code",
   "execution_count": null,
   "metadata": {
    "metadata": {}
   },
   "outputs": [],
   "source": [
    "import os\n",
    "import pandas as pd\n",
    "from typing import List\n",
    "from langchain_openai import AzureChatOpenAI\n",
    "from langchain.chains import create_sql_query_chain\n",
    "from langchain_community.utilities.sql_database import SQLDatabase\n",
    "from langchain_community.tools.sql_database.tool import QuerySQLDataBaseTool\n",
    "from operator import itemgetter\n",
    "from langchain_core.output_parsers import StrOutputParser\n",
    "from langchain_core.prompts import PromptTemplate\n",
    "from langchain_core.runnables import RunnablePassthrough\n",
    "from langchain_community.vectorstores import Chroma\n",
    "from langchain_core.example_selectors import SemanticSimilarityExampleSelector\n",
    "from langchain_openai import AzureOpenAIEmbeddings, OpenAIEmbeddings\n",
    "from langchain_community.vectorstores.azuresearch import AzureSearch\n",
    "from langchain_core.prompts import ChatPromptTemplate, MessagesPlaceholder,FewShotChatMessagePromptTemplate,PromptTemplate\n",
    "from langchain.chains.openai_tools import create_extraction_chain_pydantic\n",
    "from langchain_core.pydantic_v1 import BaseModel, Field\n",
    "from langchain.memory import ChatMessageHistory\n"
   ]
  },
  {
   "cell_type": "code",
   "execution_count": null,
   "metadata": {
    "metadata": {}
   },
   "outputs": [],
   "source": [
    "\n",
    "#import load_dotenv\n",
    "#load_dotenv()\n",
    "db_user = os.getenv(\"MySql_db_user\")\n",
    "db_password = os.getenv(\"MySql_db_password\")\n",
    "db_host = os.getenv(\"MySql_db_host\")\n",
    "db_name = os.getenv(\"MySql_db_name\")\n",
    "db_port = os.getenv(\"MySql_db_port\")\n",
    "\n",
    "LANGCHAIN_TRACING_V2 = \"false\"\n",
    "LANGCHAIN_API_KEY = os.environ[\"LANGCHAIN_API_KEY\"]\n",
    "\n",
    "# Load config values\n",
    "openai_api_base=os.getenv(\"AZURE_OPENAI_ENDPOINT\") \n",
    "openai_api_version=os.getenv(\"AZURE_OPENAI_API_VERSION\") \n",
    "azure_deployment=\"gpt-4-32k\"\n",
    "openai_api_key = os.getenv(\"AZURE_OPENAI_KEY\") \n",
    "openai_api_type=\"azure\"\n"
   ]
  },
  {
   "cell_type": "markdown",
   "metadata": {
    "id": "OQJ4HJ-6WYjk"
   },
   "source": [
    "###Building a basic NL2SQL model"
   ]
  },
  {
   "cell_type": "code",
   "execution_count": null,
   "metadata": {
    "id": "jiNjFg1i0U3Z",
    "metadata": {}
   },
   "outputs": [],
   "source": [
    "\n",
    "# db = SQLDatabase.from_uri(f\"mysql+pymysql://{db_user}:{db_password}@{db_host}/{db_name}\",sample_rows_in_table_info=1,include_tables=['customers','orders'],custom_table_info={'customers':\"customer\"})\n",
    "db = SQLDatabase.from_uri(f\"mysql+pymysql://{db_user}:{db_password}@{db_host}/{db_name}\")\n"
   ]
  },
  {
   "cell_type": "code",
   "execution_count": null,
   "metadata": {
    "colab": {
     "base_uri": "https://localhost:8080/"
    },
    "id": "4KJLTIDG0YJ5",
    "metadata": {},
    "outputId": "9ae26df1-a6ed-4e3f-e3e0-3b47144e8278"
   },
   "outputs": [],
   "source": [
    "print(db.dialect)\n",
    "print(db.get_usable_table_names())\n",
    "print(db.table_info)\n"
   ]
  },
  {
   "cell_type": "code",
   "execution_count": null,
   "metadata": {
    "id": "Z6IfK8MV0wXy",
    "metadata": {}
   },
   "outputs": [],
   "source": [
    "\n",
    "\n",
    "# Create an instance of chat llm\n",
    "llm = AzureChatOpenAI(\n",
    "    azure_endpoint=openai_api_base,\n",
    "    openai_api_version=openai_api_version,\n",
    "    azure_deployment=azure_deployment,\n",
    "    openai_api_key=openai_api_key,\n",
    "    openai_api_type=openai_api_type,\n",
    ")\n"
   ]
  },
  {
   "cell_type": "code",
   "execution_count": null,
   "metadata": {
    "colab": {
     "base_uri": "https://localhost:8080/"
    },
    "id": "RiCC2ZNA006l",
    "metadata": {},
    "outputId": "8d23dbdc-d221-47cc-e7d0-f96394dd11ed"
   },
   "outputs": [],
   "source": [
    "\n",
    "#llm = ChatOpenAI(model=\"gpt-4-32k\", temperature=0)\n",
    "generate_query = create_sql_query_chain(llm, db)\n",
    "query = generate_query.invoke({\"question\": \"what is price of `1968 Ford Mustang`\"})\n",
    "# \"what is price of `1968 Ford Mustang`\"\n",
    "print(query)\n"
   ]
  },
  {
   "cell_type": "code",
   "execution_count": null,
   "metadata": {
    "colab": {
     "base_uri": "https://localhost:8080/",
     "height": 35
    },
    "id": "_BxL9qfW1el6",
    "metadata": {},
    "outputId": "254a2ff3-e3d8-4fb8-ba95-a94ce578808c"
   },
   "outputs": [],
   "source": [
    "\n",
    "execute_query = QuerySQLDataBaseTool(db=db)\n",
    "execute_query.invoke(query)\n"
   ]
  },
  {
   "cell_type": "code",
   "execution_count": null,
   "metadata": {
    "colab": {
     "base_uri": "https://localhost:8080/",
     "height": 35
    },
    "id": "Kf2TzUe203vc",
    "metadata": {},
    "outputId": "a2c1ad8e-2b78-4341-b442-99ba68697c13"
   },
   "outputs": [],
   "source": [
    "chain = generate_query | execute_query\n",
    "chain.invoke({\"question\": \"How many orders are there\"})\n"
   ]
  },
  {
   "cell_type": "code",
   "execution_count": null,
   "metadata": {
    "colab": {
     "base_uri": "https://localhost:8080/"
    },
    "id": "WkyqNw9f1JE3",
    "metadata": {},
    "outputId": "c979a3c6-1d8c-4787-dd07-b806cb7d55db"
   },
   "outputs": [],
   "source": [
    "chain.get_prompts()[0].pretty_print()\n"
   ]
  },
  {
   "cell_type": "code",
   "execution_count": null,
   "metadata": {
    "colab": {
     "base_uri": "https://localhost:8080/",
     "height": 35
    },
    "id": "KVCYCPpU2s1d",
    "metadata": {},
    "outputId": "3ea35814-8bc6-44eb-e106-f8c77922830a"
   },
   "outputs": [],
   "source": [
    "\n",
    "\n",
    "answer_prompt = PromptTemplate.from_template(\n",
    "    \"\"\"Given the following user question, corresponding SQL query, and SQL result, answer the user question.\n",
    "\n",
    "Question: {question}\n",
    "SQL Query: {query}\n",
    "SQL Result: {result}\n",
    "Answer: \"\"\"\n",
    ")\n",
    "\n",
    "rephrase_answer = answer_prompt | llm | StrOutputParser()\n",
    "\n",
    "chain = (\n",
    "    RunnablePassthrough.assign(query=generate_query).assign(\n",
    "        result=itemgetter(\"query\") | execute_query\n",
    "    )\n",
    "    | rephrase_answer\n",
    ")\n",
    "\n",
    "chain.invoke({\"question\": \"How many orders are there\"})\n"
   ]
  },
  {
   "cell_type": "markdown",
   "metadata": {
    "id": "uPkoDITyWfxG"
   },
   "source": [
    "###Adding few-shot examples"
   ]
  },
  {
   "cell_type": "code",
   "execution_count": null,
   "metadata": {
    "id": "qJZ8vYwD3I4m",
    "metadata": {}
   },
   "outputs": [],
   "source": [
    "examples = [\n",
    "    {\n",
    "        \"input\": \"List all customers in France with a credit limit over 20,000.\",\n",
    "        \"query\": \"SELECT * FROM customers WHERE country = 'France' AND creditLimit > 20000;\"\n",
    "    },\n",
    "    {\n",
    "        \"input\": \"Get the highest payment amount made by any customer.\",\n",
    "        \"query\": \"SELECT MAX(amount) FROM payments;\"\n",
    "    },\n",
    "    {\n",
    "        \"input\": \"Show product details for products in the 'Motorcycles' product line.\",\n",
    "        \"query\": \"SELECT * FROM products WHERE productLine = 'Motorcycles';\"\n",
    "    },\n",
    "    {\n",
    "        \"input\": \"Retrieve the names of employees who report to employee number 1002.\",\n",
    "        \"query\": \"SELECT firstName, lastName FROM employees WHERE reportsTo = 1002;\"\n",
    "    },\n",
    "    {\n",
    "        \"input\": \"List all products with a stock quantity less than 7000.\",\n",
    "        \"query\": \"SELECT productName, quantityInStock FROM products WHERE quantityInStock < 7000;\"\n",
    "    },\n",
    "    {\n",
    "     'input':\"what is price of `1968 Ford Mustang`\",\n",
    "     \"query\": \"SELECT `buyPrice`, `MSRP` FROM products  WHERE `productName` = '1968 Ford Mustang' LIMIT 1;\"\n",
    "    }\n",
    "]\n"
   ]
  },
  {
   "cell_type": "code",
   "execution_count": null,
   "metadata": {
    "colab": {
     "base_uri": "https://localhost:8080/"
    },
    "id": "H3sLLayg3WV6",
    "metadata": {},
    "outputId": "23f9b669-968f-4666-d78b-5ec08aa2d381"
   },
   "outputs": [],
   "source": [
    "\n",
    "\n",
    "example_prompt = ChatPromptTemplate.from_messages(\n",
    "    [\n",
    "        (\"human\", \"{input}\\nSQLQuery:\"),\n",
    "        (\"ai\", \"{query}\"),\n",
    "    ]\n",
    ")\n",
    "few_shot_prompt = FewShotChatMessagePromptTemplate(\n",
    "    example_prompt=example_prompt,\n",
    "    examples=examples,\n",
    "    # input_variables=[\"input\",\"top_k\"],\n",
    "    input_variables=[\"input\",\"top_k\"],\n",
    ")\n",
    "print(few_shot_prompt.format(input1=\"How many products are there?\"))\n"
   ]
  },
  {
   "cell_type": "markdown",
   "metadata": {
    "id": "JRjiZ1O-WkX5"
   },
   "source": [
    "###Dynamic few-shot example selection"
   ]
  },
  {
   "cell_type": "code",
   "execution_count": null,
   "metadata": {
    "colab": {
     "base_uri": "https://localhost:8080/"
    },
    "id": "FLLY5GkD4FaJ",
    "metadata": {},
    "outputId": "146693c9-0f03-43b1-e03b-aad5c84f1490"
   },
   "outputs": [],
   "source": [
    "\n",
    "search_endpoint = os.getenv(\"AZURE_AI_SEARCH_ENDPOINT\")\n",
    "search_key = os.getenv(\"AZURE_AI_SEARCH_KEY\")\n",
    "index = \"vector-1713531272622\"\n",
    "# This is the embedding class used to produce embeddings which are used to measure semantic similarity.\n",
    "embeddings = AzureOpenAIEmbeddings(\n",
    "    azure_deployment=\"text-embedding-ada-002\",\n",
    "    openai_api_version=openai_api_version,\n",
    "    azure_endpoint=openai_api_base,\n",
    "    api_key=openai_api_key,\n",
    ")\n",
    "\n",
    "vectorstore = Chroma()\n",
    "# vectorstore = AzureSearch(\n",
    "#     azure_search_endpoint=search_endpoint,\n",
    "#     azure_search_key=search_key,\n",
    "#     index_name=index,\n",
    "#     embedding_function=embeddings.embed_query,\n",
    "# )\n",
    "#vectorstore.delete(\"sqlsearchindex\")\n",
    "\n",
    "example_selector = SemanticSimilarityExampleSelector.from_examples(\n",
    "    examples,\n",
    "    embeddings,\n",
    "    vectorstore,\n",
    "    k=2,\n",
    "    input_keys=[\"input\"],\n",
    ")\n",
    "example_selector.select_examples({\"input\": \"how many employees we have?\"})\n",
    "# example_selector.select_examples({\"input\": \"How many employees?\"})\n"
   ]
  },
  {
   "cell_type": "code",
   "execution_count": null,
   "metadata": {
    "colab": {
     "base_uri": "https://localhost:8080/"
    },
    "id": "4rID0Q0d4jHj",
    "metadata": {},
    "outputId": "bcf8be92-d57d-40d0-a0b2-4d06a99c701b"
   },
   "outputs": [],
   "source": [
    "few_shot_prompt = FewShotChatMessagePromptTemplate(\n",
    "    example_prompt=example_prompt,\n",
    "    example_selector=example_selector,\n",
    "    input_variables=[\"input\",\"top_k\"],\n",
    ")\n",
    "print(few_shot_prompt.format(input=\"How many products are there?\"))\n"
   ]
  },
  {
   "cell_type": "markdown",
   "metadata": {
    "id": "72ZSFWBeW_tE"
   },
   "source": [
    "Customizing prompts"
   ]
  },
  {
   "cell_type": "code",
   "execution_count": null,
   "metadata": {
    "colab": {
     "base_uri": "https://localhost:8080/"
    },
    "id": "PCnlv2pd469x",
    "metadata": {},
    "outputId": "06cc26ba-82fc-42a4-f195-e71915a6cb58"
   },
   "outputs": [],
   "source": [
    "final_prompt = ChatPromptTemplate.from_messages(\n",
    "    [\n",
    "        (\"system\", \"You are a MySQL expert. Given an input question, create a syntactically correct MySQL query to run. Unless otherwise specificed.\\n\\nHere is the relevant table info: {table_info}\\n\\nBelow are a number of examples of questions and their corresponding SQL queries.\"),\n",
    "        few_shot_prompt,\n",
    "        (\"human\", \"{input}\"),\n",
    "    ]\n",
    ")\n",
    "print(final_prompt.format(input=\"How many products are there?\",table_info=\"some table info\"))\n"
   ]
  },
  {
   "cell_type": "code",
   "execution_count": null,
   "metadata": {
    "colab": {
     "base_uri": "https://localhost:8080/",
     "height": 35
    },
    "id": "eN7UFbYs5ULO",
    "metadata": {},
    "outputId": "33079972-0f2e-4c75-9294-0e87093d7348"
   },
   "outputs": [],
   "source": [
    "generate_query = create_sql_query_chain(llm, db,final_prompt)\n",
    "chain = (\n",
    "RunnablePassthrough.assign(query=generate_query).assign(\n",
    "    result=itemgetter(\"query\") | execute_query\n",
    ")\n",
    "| rephrase_answer\n",
    ")\n",
    "chain.invoke({\"question\": \"How many csutomers with credit limit more than 50000\"})\n"
   ]
  },
  {
   "cell_type": "markdown",
   "metadata": {
    "id": "VzLDjfdJWxQ0"
   },
   "source": [
    "###Dynamic relevant table selection"
   ]
  },
  {
   "cell_type": "code",
   "execution_count": null,
   "metadata": {
    "colab": {
     "base_uri": "https://localhost:8080/"
    },
    "id": "fuTfq0e-6Mgi",
    "metadata": {},
    "outputId": "39705a0e-eccd-48f3-bdd8-80ee970c1369"
   },
   "outputs": [],
   "source": [
    "\n",
    "\n",
    "def get_table_details():\n",
    "    # Read the CSV file into a DataFrame\n",
    "    table_description = pd.read_csv(\"database_table_descriptions.csv\")\n",
    "    table_docs = []\n",
    "\n",
    "    # Iterate over the DataFrame rows to create Document objects\n",
    "    table_details = \"\"\n",
    "    for index, row in table_description.iterrows():\n",
    "        table_details = table_details + \"Table Name:\" + row['Table'] + \"\\n\" + \"Table Description:\" + row['Description'] + \"\\n\\n\"\n",
    "\n",
    "    return table_details\n",
    "\n",
    "\n",
    "class Table(BaseModel):\n",
    "    \"\"\"Table in SQL database.\"\"\"\n",
    "\n",
    "    name: str = Field(description=\"Name of table in SQL database.\")\n",
    "\n",
    "# table_names = \"\\n\".join(db.get_usable_table_names())\n",
    "table_details = get_table_details()\n",
    "print(table_details)\n"
   ]
  },
  {
   "cell_type": "code",
   "execution_count": null,
   "metadata": {
    "colab": {
     "base_uri": "https://localhost:8080/"
    },
    "id": "GA1TjUgm7EST",
    "metadata": {},
    "outputId": "728a398c-2256-478f-dd17-ebf4b40ebfa4"
   },
   "outputs": [],
   "source": [
    "table_details_prompt = f\"\"\"Return the names of ALL the SQL tables that MIGHT be relevant to the user question. \\\n",
    "The tables are:\n",
    "\n",
    "{table_details}\n",
    "\n",
    "Remember to include ALL POTENTIALLY RELEVANT tables, even if you're not sure that they're needed.\"\"\"\n",
    "\n",
    "table_chain = create_extraction_chain_pydantic(Table, llm, system_message=table_details_prompt)\n",
    "tables = table_chain.invoke({\"input\": \"give me details of customer and their order count\"})\n",
    "tables\n"
   ]
  },
  {
   "cell_type": "code",
   "execution_count": null,
   "metadata": {
    "colab": {
     "base_uri": "https://localhost:8080/"
    },
    "id": "rTf1SphE69Xf",
    "metadata": {},
    "outputId": "f8aac43c-b136-41a4-84d6-7ee08f9de0e3"
   },
   "outputs": [],
   "source": [
    "def get_tables(tables: List[Table]) -> List[str]:\n",
    "    tables  = [table.name for table in tables]\n",
    "    return tables\n",
    "\n",
    "select_table = {\"input\": itemgetter(\"question\")} | create_extraction_chain_pydantic(Table, llm, system_message=table_details_prompt) | get_tables\n",
    "select_table.invoke({\"question\": \"give me details of customer and their order count\"})\n"
   ]
  },
  {
   "cell_type": "code",
   "execution_count": null,
   "metadata": {
    "colab": {
     "base_uri": "https://localhost:8080/",
     "height": 35
    },
    "id": "6DyhowwN71ts",
    "metadata": {},
    "outputId": "1c15d2ea-ee61-4647-8978-a598c9736784"
   },
   "outputs": [],
   "source": [
    "chain = (\n",
    "RunnablePassthrough.assign(table_names_to_use=select_table) |\n",
    "RunnablePassthrough.assign(query=generate_query).assign(\n",
    "    result=itemgetter(\"query\") | execute_query\n",
    ")\n",
    "| rephrase_answer\n",
    ")\n",
    "chain.invoke({\"question\": \"How many cutomers with order count more than 5\"})\n"
   ]
  },
  {
   "cell_type": "code",
   "execution_count": null,
   "metadata": {
    "colab": {
     "base_uri": "https://localhost:8080/",
     "height": 70
    },
    "id": "2GGHwgnI8T7i",
    "metadata": {},
    "outputId": "2851a64e-7b99-4d17-fc02-ffd40027bafe"
   },
   "outputs": [],
   "source": [
    "chain.invoke({\"question\": \"Can you list their names?\"})\n"
   ]
  },
  {
   "cell_type": "markdown",
   "metadata": {
    "id": "dvy70bh0W28Q"
   },
   "source": [
    "###Adding memory to the chatbot so that it answers follow-up questions related to the database.\n",
    "\n",
    "\n",
    "\n",
    "\n"
   ]
  },
  {
   "cell_type": "code",
   "execution_count": null,
   "metadata": {
    "colab": {
     "base_uri": "https://localhost:8080/"
    },
    "id": "StZ_P_5_87L6",
    "metadata": {},
    "outputId": "e4dfe90f-2907-4c3c-d01e-d44ef182cd42"
   },
   "outputs": [],
   "source": [
    "final_prompt = ChatPromptTemplate.from_messages(\n",
    "    [\n",
    "        (\"system\", \"You are a MySQL expert. Given an input question, create a syntactically correct MySQL query to run. Unless otherwise specificed.\\n\\nHere is the relevant table info: {table_info}\\n\\nBelow are a number of examples of questions and their corresponding SQL queries. Those examples are just for referecne and hsould be considered while answering follow up questions\"),\n",
    "        few_shot_prompt,\n",
    "        MessagesPlaceholder(variable_name=\"messages\"),\n",
    "        (\"human\", \"{input}\"),\n",
    "    ]\n",
    ")\n",
    "print(final_prompt.format(input=\"How many products are there?\",table_info=\"some table info\",messages=[]))\n"
   ]
  },
  {
   "cell_type": "code",
   "execution_count": null,
   "metadata": {
    "id": "OmXe-uWJ8lvt",
    "metadata": {}
   },
   "outputs": [],
   "source": [
    "\n",
    "history = ChatMessageHistory()\n",
    "\n",
    "generate_query = create_sql_query_chain(llm, db,final_prompt)\n",
    "\n",
    "chain = (\n",
    "RunnablePassthrough.assign(table_names_to_use=select_table) |\n",
    "RunnablePassthrough.assign(query=generate_query).assign(\n",
    "    result=itemgetter(\"query\") | execute_query\n",
    ")\n",
    "| rephrase_answer\n",
    ")\n"
   ]
  },
  {
   "cell_type": "code",
   "execution_count": null,
   "metadata": {
    "colab": {
     "base_uri": "https://localhost:8080/",
     "height": 35
    },
    "id": "6x-mjNpo9lc8",
    "metadata": {},
    "outputId": "41c0b7b3-0563-4fda-e969-75aeb42d578a"
   },
   "outputs": [],
   "source": [
    "question = \"How many cutomers with order count more than 5\"\n",
    "response = chain.invoke({\"question\": question,\"messages\":history.messages})\n",
    "response\n"
   ]
  },
  {
   "cell_type": "code",
   "execution_count": null,
   "metadata": {
    "id": "k98Hmj2Y9mvk",
    "metadata": {}
   },
   "outputs": [],
   "source": [
    "history.add_user_message(question)\n",
    "history.add_ai_message(response)\n"
   ]
  },
  {
   "cell_type": "code",
   "execution_count": null,
   "metadata": {
    "colab": {
     "base_uri": "https://localhost:8080/"
    },
    "id": "x9DLodzOonza",
    "metadata": {},
    "outputId": "214bda35-1b95-4fa6-881f-d3cd62c7265d"
   },
   "outputs": [],
   "source": [
    "history.messages\n"
   ]
  },
  {
   "cell_type": "code",
   "execution_count": null,
   "metadata": {
    "colab": {
     "base_uri": "https://localhost:8080/",
     "height": 35
    },
    "id": "ptN_RIoI-CZX",
    "metadata": {},
    "outputId": "58336587-f454-4bf8-a131-d45c96a47edc"
   },
   "outputs": [],
   "source": [
    "response = chain.invoke({\"question\": \"Can you list there names?\",\"messages\":history.messages})\n",
    "response\n"
   ]
  },
  {
   "cell_type": "code",
   "execution_count": null,
   "metadata": {
    "id": "HVhNmBZcotjH",
    "metadata": {}
   },
   "outputs": [],
   "source": []
  }
 ],
 "metadata": {
  "colab": {
   "include_colab_link": true,
   "provenance": []
  },
  "kernelspec": {
   "display_name": "Python 3 (ipykernel)",
   "language": "python",
   "name": "python3"
  },
  "language_info": {
   "codemirror_mode": {
    "name": "ipython",
    "version": 3
   },
   "file_extension": ".py",
   "mimetype": "text/x-python",
   "name": "python",
   "nbconvert_exporter": "python",
   "pygments_lexer": "ipython3",
   "version": "3.11.7"
  }
 },
 "nbformat": 4,
 "nbformat_minor": 4
}
