{
 "cells": [
  {
   "cell_type": "markdown",
   "metadata": {
    "id": "up5XHcGdVon2"
   },
   "source": [
    "### Dynamic relevant table selection (Large database use case)\n",
    "\n",
    "1. MySql database\n",
    "2. Azure OpenAI LLM (GPT-4-32k)\n",
    "3. Langchain\n",
    "4. MsSql database\n"
   ]
  },
  {
   "cell_type": "code",
   "execution_count": 1,
   "metadata": {
    "id": "HUShN3Sm0Lr0",
    "metadata": {}
   },
   "outputs": [],
   "source": [
    "#!pip install langchain_openai langchain_community langchain langchain-experimental pymysql chromadb -q\n",
    "#pip install -U langsmith\n",
    "#%pip install python-dotenv\n"
   ]
  },
  {
   "cell_type": "markdown",
   "metadata": {},
   "source": [
    "**Step 1: Import required libraries**\n"
   ]
  },
  {
   "cell_type": "code",
   "execution_count": 12,
   "metadata": {
    "metadata": {}
   },
   "outputs": [],
   "source": [
    "import os\n",
    "import pandas as pd\n",
    "from typing import List\n",
    "from langchain_openai import AzureChatOpenAI\n",
    "from langchain.chains import create_sql_query_chain\n",
    "from langchain_community.utilities.sql_database import SQLDatabase\n",
    "from langchain_community.tools.sql_database.tool import QuerySQLDataBaseTool\n",
    "from operator import itemgetter\n",
    "from langchain_core.output_parsers import StrOutputParser\n",
    "from langchain_core.prompts import PromptTemplate, ChatPromptTemplate, MessagesPlaceholder\n",
    "from langchain_core.runnables import RunnablePassthrough\n",
    "from langchain_core.pydantic_v1 import BaseModel, Field\n",
    "from langchain.memory import ChatMessageHistory"
   ]
  },
  {
   "cell_type": "markdown",
   "metadata": {},
   "source": [
    "**Step 2: Load config values**\n"
   ]
  },
  {
   "cell_type": "code",
   "execution_count": 2,
   "metadata": {
    "metadata": {}
   },
   "outputs": [],
   "source": [
    "db_user = os.getenv(\"MySql_db_user\")\n",
    "db_password = os.getenv(\"MySql_db_password\")\n",
    "db_host = os.getenv(\"MySql_db_host\")\n",
    "db_name = os.getenv(\"MySql_db_name\")\n",
    "db_port = os.getenv(\"MySql_db_port\")\n",
    "\n",
    "LANGCHAIN_TRACING_V2 = \"true\"\n",
    "LANGCHAIN_API_KEY = os.environ[\"LANGCHAIN_API_KEY\"]\n",
    "\n",
    "openai_api_base=os.getenv(\"AZURE_OPENAI_ENDPOINT\") \n",
    "openai_api_version=os.getenv(\"AZURE_OPENAI_API_VERSION\") \n",
    "azure_deployment=\"gpt-4-32k\"\n",
    "openai_api_key = os.getenv(\"AZURE_OPENAI_KEY\") \n",
    "openai_api_type=\"azure\"\n",
    "\n",
    "search_endpoint = os.getenv(\"AZURE_AI_SEARCH_ENDPOINT\")\n",
    "search_key = os.getenv(\"AZURE_AI_SEARCH_KEY\")\n",
    "index = \"sqlsearchindex\""
   ]
  },
  {
   "cell_type": "markdown",
   "metadata": {
    "id": "OQJ4HJ-6WYjk"
   },
   "source": [
    "**Step 3: Connecting to MySql database server**\n"
   ]
  },
  {
   "cell_type": "code",
   "execution_count": 3,
   "metadata": {
    "id": "jiNjFg1i0U3Z",
    "metadata": {}
   },
   "outputs": [],
   "source": [
    "# db = SQLDatabase.from_uri(f\"mysql+pymysql://{db_user}:{db_password}@{db_host}/{db_name}\",sample_rows_in_table_info=1,include_tables=['customers','orders'],custom_table_info={'customers':\"customer\"})\n",
    "db = SQLDatabase.from_uri(f\"mysql+pymysql://{db_user}:{db_password}@{db_host}/{db_name}\")"
   ]
  },
  {
   "cell_type": "code",
   "execution_count": 4,
   "metadata": {
    "colab": {
     "base_uri": "https://localhost:8080/"
    },
    "id": "4KJLTIDG0YJ5",
    "metadata": {},
    "outputId": "9ae26df1-a6ed-4e3f-e3e0-3b47144e8278"
   },
   "outputs": [
    {
     "name": "stdout",
     "output_type": "stream",
     "text": [
      "mysql\n",
      "['customers', 'employees', 'offices', 'orderdetails', 'orders', 'payments', 'productlines', 'products']\n",
      "\n",
      "CREATE TABLE customers (\n",
      "\t`customerNumber` INTEGER NOT NULL, \n",
      "\t`customerName` VARCHAR(50) NOT NULL, \n",
      "\t`contactLastName` VARCHAR(50) NOT NULL, \n",
      "\t`contactFirstName` VARCHAR(50) NOT NULL, \n",
      "\tphone VARCHAR(50) NOT NULL, \n",
      "\t`addressLine1` VARCHAR(50) NOT NULL, \n",
      "\t`addressLine2` VARCHAR(50), \n",
      "\tcity VARCHAR(50) NOT NULL, \n",
      "\tstate VARCHAR(50), \n",
      "\t`postalCode` VARCHAR(15), \n",
      "\tcountry VARCHAR(50) NOT NULL, \n",
      "\t`salesRepEmployeeNumber` INTEGER, \n",
      "\t`creditLimit` DECIMAL(10, 2), \n",
      "\tPRIMARY KEY (`customerNumber`), \n",
      "\tCONSTRAINT customers_ibfk_1 FOREIGN KEY(`salesRepEmployeeNumber`) REFERENCES employees (`employeeNumber`)\n",
      ")ENGINE=InnoDB COLLATE utf8mb4_0900_ai_ci DEFAULT CHARSET=utf8mb4\n",
      "\n",
      "/*\n",
      "3 rows from customers table:\n",
      "customerNumber\tcustomerName\tcontactLastName\tcontactFirstName\tphone\taddressLine1\taddressLine2\tcity\tstate\tpostalCode\tcountry\tsalesRepEmployeeNumber\tcreditLimit\n",
      "103\tAtelier graphique\tSchmitt\tCarine \t40.32.2555\t54, rue Royale\tNone\tNantes\tNone\t44000\tFrance\t1370\t21000.00\n",
      "112\tSignal Gift Stores\tKing\tJean\t7025551838\t8489 Strong St.\tNone\tLas Vegas\tNV\t83030\tUSA\t1166\t71800.00\n",
      "114\tAustralian Collectors, Co.\tFerguson\tPeter\t03 9520 4555\t636 St Kilda Road\tLevel 3\tMelbourne\tVictoria\t3004\tAustralia\t1611\t117300.00\n",
      "*/\n",
      "\n",
      "\n",
      "CREATE TABLE employees (\n",
      "\t`employeeNumber` INTEGER NOT NULL, \n",
      "\t`lastName` VARCHAR(50) NOT NULL, \n",
      "\t`firstName` VARCHAR(50) NOT NULL, \n",
      "\textension VARCHAR(10) NOT NULL, \n",
      "\temail VARCHAR(100) NOT NULL, \n",
      "\t`officeCode` VARCHAR(10) NOT NULL, \n",
      "\t`reportsTo` INTEGER, \n",
      "\t`jobTitle` VARCHAR(50) NOT NULL, \n",
      "\tPRIMARY KEY (`employeeNumber`), \n",
      "\tCONSTRAINT employees_ibfk_1 FOREIGN KEY(`reportsTo`) REFERENCES employees (`employeeNumber`), \n",
      "\tCONSTRAINT employees_ibfk_2 FOREIGN KEY(`officeCode`) REFERENCES offices (`officeCode`)\n",
      ")ENGINE=InnoDB COLLATE utf8mb4_0900_ai_ci DEFAULT CHARSET=utf8mb4\n",
      "\n",
      "/*\n",
      "3 rows from employees table:\n",
      "employeeNumber\tlastName\tfirstName\textension\temail\tofficeCode\treportsTo\tjobTitle\n",
      "1002\tMurphy\tDiane\tx5800\tdmurphy@classicmodelcars.com\t1\tNone\tPresident\n",
      "1056\tPatterson\tMary\tx4611\tmpatterso@classicmodelcars.com\t1\t1002\tVP Sales\n",
      "1076\tFirrelli\tJeff\tx9273\tjfirrelli@classicmodelcars.com\t1\t1002\tVP Marketing\n",
      "*/\n",
      "\n",
      "\n",
      "CREATE TABLE offices (\n",
      "\t`officeCode` VARCHAR(10) NOT NULL, \n",
      "\tcity VARCHAR(50) NOT NULL, \n",
      "\tphone VARCHAR(50) NOT NULL, \n",
      "\t`addressLine1` VARCHAR(50) NOT NULL, \n",
      "\t`addressLine2` VARCHAR(50), \n",
      "\tstate VARCHAR(50), \n",
      "\tcountry VARCHAR(50) NOT NULL, \n",
      "\t`postalCode` VARCHAR(15) NOT NULL, \n",
      "\tterritory VARCHAR(10) NOT NULL, \n",
      "\tPRIMARY KEY (`officeCode`)\n",
      ")ENGINE=InnoDB COLLATE utf8mb4_0900_ai_ci DEFAULT CHARSET=utf8mb4\n",
      "\n",
      "/*\n",
      "3 rows from offices table:\n",
      "officeCode\tcity\tphone\taddressLine1\taddressLine2\tstate\tcountry\tpostalCode\tterritory\n",
      "1\tSan Francisco\t+1 650 219 4782\t100 Market Street\tSuite 300\tCA\tUSA\t94080\tNA\n",
      "2\tBoston\t+1 215 837 0825\t1550 Court Place\tSuite 102\tMA\tUSA\t02107\tNA\n",
      "3\tNYC\t+1 212 555 3000\t523 East 53rd Street\tapt. 5A\tNY\tUSA\t10022\tNA\n",
      "*/\n",
      "\n",
      "\n",
      "CREATE TABLE orderdetails (\n",
      "\t`orderNumber` INTEGER NOT NULL, \n",
      "\t`productCode` VARCHAR(15) NOT NULL, \n",
      "\t`quantityOrdered` INTEGER NOT NULL, \n",
      "\t`priceEach` DECIMAL(10, 2) NOT NULL, \n",
      "\t`orderLineNumber` SMALLINT NOT NULL, \n",
      "\tPRIMARY KEY (`orderNumber`, `productCode`), \n",
      "\tCONSTRAINT orderdetails_ibfk_1 FOREIGN KEY(`orderNumber`) REFERENCES orders (`orderNumber`), \n",
      "\tCONSTRAINT orderdetails_ibfk_2 FOREIGN KEY(`productCode`) REFERENCES products (`productCode`)\n",
      ")ENGINE=InnoDB COLLATE utf8mb4_0900_ai_ci DEFAULT CHARSET=utf8mb4\n",
      "\n",
      "/*\n",
      "3 rows from orderdetails table:\n",
      "orderNumber\tproductCode\tquantityOrdered\tpriceEach\torderLineNumber\n",
      "10100\tS18_1749\t30\t136.00\t3\n",
      "10100\tS18_2248\t50\t55.09\t2\n",
      "10100\tS18_4409\t22\t75.46\t4\n",
      "*/\n",
      "\n",
      "\n",
      "CREATE TABLE orders (\n",
      "\t`orderNumber` INTEGER NOT NULL, \n",
      "\t`orderDate` DATE NOT NULL, \n",
      "\t`requiredDate` DATE NOT NULL, \n",
      "\t`shippedDate` DATE, \n",
      "\tstatus VARCHAR(15) NOT NULL, \n",
      "\tcomments TEXT, \n",
      "\t`customerNumber` INTEGER NOT NULL, \n",
      "\tPRIMARY KEY (`orderNumber`), \n",
      "\tCONSTRAINT orders_ibfk_1 FOREIGN KEY(`customerNumber`) REFERENCES customers (`customerNumber`)\n",
      ")ENGINE=InnoDB COLLATE utf8mb4_0900_ai_ci DEFAULT CHARSET=utf8mb4\n",
      "\n",
      "/*\n",
      "3 rows from orders table:\n",
      "orderNumber\torderDate\trequiredDate\tshippedDate\tstatus\tcomments\tcustomerNumber\n",
      "10100\t2003-01-06\t2003-01-13\t2003-01-10\tShipped\tNone\t363\n",
      "10101\t2003-01-09\t2003-01-18\t2003-01-11\tShipped\tCheck on availability.\t128\n",
      "10102\t2003-01-10\t2003-01-18\t2003-01-14\tShipped\tNone\t181\n",
      "*/\n",
      "\n",
      "\n",
      "CREATE TABLE payments (\n",
      "\t`customerNumber` INTEGER NOT NULL, \n",
      "\t`checkNumber` VARCHAR(50) NOT NULL, \n",
      "\t`paymentDate` DATE NOT NULL, \n",
      "\tamount DECIMAL(10, 2) NOT NULL, \n",
      "\tPRIMARY KEY (`customerNumber`, `checkNumber`), \n",
      "\tCONSTRAINT payments_ibfk_1 FOREIGN KEY(`customerNumber`) REFERENCES customers (`customerNumber`)\n",
      ")ENGINE=InnoDB COLLATE utf8mb4_0900_ai_ci DEFAULT CHARSET=utf8mb4\n",
      "\n",
      "/*\n",
      "3 rows from payments table:\n",
      "customerNumber\tcheckNumber\tpaymentDate\tamount\n",
      "103\tHQ336336\t2004-10-19\t6066.78\n",
      "103\tJM555205\t2003-06-05\t14571.44\n",
      "103\tOM314933\t2004-12-18\t1676.14\n",
      "*/\n",
      "\n",
      "\n",
      "CREATE TABLE productlines (\n",
      "\t`productLine` VARCHAR(50) NOT NULL, \n",
      "\t`textDescription` VARCHAR(4000), \n",
      "\t`htmlDescription` MEDIUMTEXT, \n",
      "\timage MEDIUMBLOB, \n",
      "\tPRIMARY KEY (`productLine`)\n",
      ")ENGINE=InnoDB COLLATE utf8mb4_0900_ai_ci DEFAULT CHARSET=utf8mb4\n",
      "\n",
      "/*\n",
      "3 rows from productlines table:\n",
      "productLine\ttextDescription\thtmlDescription\timage\n",
      "Classic Cars\tAttention car enthusiasts: Make your wildest car ownership dreams come true. Whether you are looking\tNone\tNone\n",
      "Motorcycles\tOur motorcycles are state of the art replicas of classic as well as contemporary motorcycle legends \tNone\tNone\n",
      "Planes\tUnique, diecast airplane and helicopter replicas suitable for collections, as well as home, office o\tNone\tNone\n",
      "*/\n",
      "\n",
      "\n",
      "CREATE TABLE products (\n",
      "\t`productCode` VARCHAR(15) NOT NULL, \n",
      "\t`productName` VARCHAR(70) NOT NULL, \n",
      "\t`productLine` VARCHAR(50) NOT NULL, \n",
      "\t`productScale` VARCHAR(10) NOT NULL, \n",
      "\t`productVendor` VARCHAR(50) NOT NULL, \n",
      "\t`productDescription` TEXT NOT NULL, \n",
      "\t`quantityInStock` SMALLINT NOT NULL, \n",
      "\t`buyPrice` DECIMAL(10, 2) NOT NULL, \n",
      "\t`MSRP` DECIMAL(10, 2) NOT NULL, \n",
      "\tPRIMARY KEY (`productCode`), \n",
      "\tCONSTRAINT products_ibfk_1 FOREIGN KEY(`productLine`) REFERENCES productlines (`productLine`)\n",
      ")ENGINE=InnoDB COLLATE utf8mb4_0900_ai_ci DEFAULT CHARSET=utf8mb4\n",
      "\n",
      "/*\n",
      "3 rows from products table:\n",
      "productCode\tproductName\tproductLine\tproductScale\tproductVendor\tproductDescription\tquantityInStock\tbuyPrice\tMSRP\n",
      "S10_1678\t1969 Harley Davidson Ultimate Chopper\tMotorcycles\t1:10\tMin Lin Diecast\tThis replica features working kickstand, front suspension, gear-shift lever, footbrake lever, drive \t7933\t48.81\t95.70\n",
      "S10_1949\t1952 Alpine Renault 1300\tClassic Cars\t1:10\tClassic Metal Creations\tTurnable front wheels; steering function; detailed interior; detailed engine; opening hood; opening \t7305\t98.58\t214.30\n",
      "S10_2016\t1996 Moto Guzzi 1100i\tMotorcycles\t1:10\tHighway 66 Mini Classics\tOfficial Moto Guzzi logos and insignias, saddle bags located on side of motorcycle, detailed engine,\t6625\t68.99\t118.94\n",
      "*/\n"
     ]
    }
   ],
   "source": [
    "print(db.dialect)\n",
    "print(db.get_usable_table_names())\n",
    "print(db.table_info)"
   ]
  },
  {
   "cell_type": "markdown",
   "metadata": {},
   "source": [
    "**Step 4: Creating LLM instance**\n"
   ]
  },
  {
   "cell_type": "code",
   "execution_count": 5,
   "metadata": {
    "id": "Z6IfK8MV0wXy",
    "metadata": {}
   },
   "outputs": [],
   "source": [
    "llm = AzureChatOpenAI(\n",
    "    azure_endpoint=openai_api_base,\n",
    "    openai_api_version=openai_api_version,\n",
    "    azure_deployment=azure_deployment,\n",
    "    openai_api_key=openai_api_key,\n",
    "    openai_api_type=openai_api_type,\n",
    "    temperature=0,\n",
    ")"
   ]
  },
  {
   "cell_type": "markdown",
   "metadata": {},
   "source": [
    "**Step 5: Initializing generate and execute query**\n"
   ]
  },
  {
   "cell_type": "code",
   "execution_count": 6,
   "metadata": {
    "colab": {
     "base_uri": "https://localhost:8080/"
    },
    "id": "RiCC2ZNA006l",
    "metadata": {},
    "outputId": "8d23dbdc-d221-47cc-e7d0-f96394dd11ed"
   },
   "outputs": [],
   "source": [
    "generate_query = create_sql_query_chain(llm, db)\n",
    "execute_query = QuerySQLDataBaseTool(db=db)"
   ]
  },
  {
   "cell_type": "markdown",
   "metadata": {},
   "source": [
    "**Step 6: Prompt template to generate a prompt to rephrase the sql result to natural language**\n"
   ]
  },
  {
   "cell_type": "code",
   "execution_count": 7,
   "metadata": {
    "colab": {
     "base_uri": "https://localhost:8080/",
     "height": 35
    },
    "id": "KVCYCPpU2s1d",
    "metadata": {},
    "outputId": "3ea35814-8bc6-44eb-e106-f8c77922830a"
   },
   "outputs": [],
   "source": [
    "answer_prompt = PromptTemplate.from_template(\n",
    "    \"\"\"Given the following user question, corresponding SQL query, and SQL result, answer the user question.\n",
    "\n",
    "Question: {question}\n",
    "SQL Query: {query}\n",
    "SQL Result: {result}\n",
    "Answer: \"\"\"\n",
    ")\n",
    "\n",
    "rephrase_answer = answer_prompt | llm | StrOutputParser()"
   ]
  },
  {
   "cell_type": "markdown",
   "metadata": {
    "id": "VzLDjfdJWxQ0"
   },
   "source": [
    "**Step 7: Dynamic relevant table selection**\n"
   ]
  },
  {
   "cell_type": "code",
   "execution_count": 16,
   "metadata": {
    "colab": {
     "base_uri": "https://localhost:8080/"
    },
    "id": "fuTfq0e-6Mgi",
    "metadata": {},
    "outputId": "39705a0e-eccd-48f3-bdd8-80ee970c1369"
   },
   "outputs": [
    {
     "name": "stdout",
     "output_type": "stream",
     "text": [
      "Table Name:productlines\n",
      "Table Description:Stores information about the different product lines offered by the company, including a unique name, textual description, HTML description, and image. Categorizes products into different lines.\n",
      "\n",
      "Table Name:products\n",
      "Table Description:Contains details of each product sold by the company, including code, name, product line, scale, vendor, description, stock quantity, buy price, and MSRP. Linked to the productlines table.\n",
      "\n",
      "Table Name:offices\n",
      "Table Description:Holds data on the company's sales offices, including office code, city, phone number, address, state, country, postal code, and territory. Each office is uniquely identified by its office code.\n",
      "\n",
      "Table Name:employees\n",
      "Table Description:Stores information about employees, including number, last name, first name, job title, contact info, and office code. Links to offices and maps organizational structure through the reportsTo attribute.\n",
      "\n",
      "Table Name:customers\n",
      "Table Description:Captures data on customers, including customer number, name, contact details, address, assigned sales rep, and credit limit. Central to managing customer relationships and sales processes.\n",
      "\n",
      "Table Name:payments\n",
      "Table Description:Records payments made by customers, tracking the customer number, check number, payment date, and amount. Linked to the customers table for financial tracking and account management.\n",
      "\n",
      "Table Name:orders\n",
      "Table Description:Details each sales order placed by customers, including order number, dates, status, comments, and customer number. Linked to the customers table, tracking sales transactions.\n",
      "\n",
      "Table Name:orderdetails\n",
      "Table Description:Describes individual line items for each sales order, including order number, product code, quantity, price, and order line number. Links orders to products, detailing the items sold.\n",
      "\n",
      "\n"
     ]
    }
   ],
   "source": [
    "def get_table_details():\n",
    "    # Read the CSV file into a DataFrame\n",
    "    table_description = pd.read_csv(\"database_table_descriptions.csv\")\n",
    "    # Iterate over the DataFrame rows to create Document objects\n",
    "    table_details = \"\"\n",
    "    for index, row in table_description.iterrows():\n",
    "        table_details = table_details + \"Table Name:\" + row['Table'] + \"\\n\" + \"Table Description:\" + row['Description'] + \"\\n\\n\"\n",
    "    return table_details\n",
    "\n",
    "class Table(BaseModel):\n",
    "    \"\"\"Table in SQL database.\"\"\"\n",
    "    name: str = Field(description=\"Name of table in SQL database.\")\n",
    "\n",
    "class Tables(BaseModel):\n",
    "    \"\"\"Tables in SQL database.\"\"\"\n",
    "    # Creates a model so that we can extract multiple entities.\n",
    "    name: List[Table]\n",
    "    \n",
    "table_details = get_table_details()\n",
    "print(table_details)"
   ]
  },
  {
   "cell_type": "code",
   "execution_count": 17,
   "metadata": {
    "metadata": {}
   },
   "outputs": [],
   "source": [
    "table_details_prompt = ChatPromptTemplate.from_messages(\n",
    "    [\n",
    "        (\n",
    "            \"system\",\n",
    "            \"Return the names of ALL the table names that MIGHT be relevant to the user question. Remember to include ALL POTENTIALLY RELEVANT table names, even if you're not sure that they're needed.The tables are:  {table_details}\",\n",
    "        ),\n",
    "        MessagesPlaceholder(variable_name=\"messages\"),\n",
    "        (\"human\", \"{input}\"),\n",
    "    ]\n",
    ")"
   ]
  },
  {
   "cell_type": "code",
   "execution_count": 18,
   "metadata": {
    "colab": {
     "base_uri": "https://localhost:8080/"
    },
    "id": "rTf1SphE69Xf",
    "metadata": {},
    "outputId": "f8aac43c-b136-41a4-84d6-7ee08f9de0e3"
   },
   "outputs": [
    {
     "data": {
      "text/plain": [
       "['customers', 'orders']"
      ]
     },
     "execution_count": 18,
     "metadata": {},
     "output_type": "execute_result"
    }
   ],
   "source": [
    "def extract_table_names(tables: Tables) -> List[str]:\n",
    "    return [table.name for table in tables.name]\n",
    "#extraction approach based on OpenAI Functions\n",
    "select_table = table_details_prompt | llm.with_structured_output(schema=Tables) | extract_table_names\n",
    "question = \"give me details of customer and their order count.\"\n",
    "select_table.invoke({\"input\": question, \"table_details\": table_details,\"messages\":[]})\n",
    "#e.g.,['customers', 'orders']"
   ]
  },
  {
   "cell_type": "code",
   "execution_count": 19,
   "metadata": {
    "colab": {
     "base_uri": "https://localhost:8080/",
     "height": 35
    },
    "id": "6DyhowwN71ts",
    "metadata": {},
    "outputId": "1c15d2ea-ee61-4647-8978-a598c9736784"
   },
   "outputs": [
    {
     "data": {
      "text/plain": [
       "'2'"
      ]
     },
     "execution_count": 19,
     "metadata": {},
     "output_type": "execute_result"
    }
   ],
   "source": [
    "chain = (\n",
    "RunnablePassthrough.assign(table_names_to_use=select_table) |\n",
    "RunnablePassthrough.assign(query=generate_query).assign(\n",
    "    result=itemgetter(\"query\") | execute_query\n",
    ")\n",
    "| rephrase_answer\n",
    ")\n",
    "question = \"How many customers with order count more than 5\"\n",
    "chain.invoke({\"question\": question,\"input\": question,\"table_details\": table_details,\"messages\":[]})"
   ]
  },
  {
   "cell_type": "markdown",
   "metadata": {},
   "source": [
    "**End of dynamic relevant table selection demo**\n"
   ]
  },
  {
   "cell_type": "code",
   "execution_count": 13,
   "metadata": {
    "colab": {
     "base_uri": "https://localhost:8080/",
     "height": 70
    },
    "id": "2GGHwgnI8T7i",
    "metadata": {},
    "outputId": "2851a64e-7b99-4d17-fc02-ffd40027bafe"
   },
   "outputs": [
    {
     "data": {
      "text/plain": [
       "'The names are Diane Murphy, Mary Patterson, Jeff Firrelli, William Patterson, and Gerard Bondur.'"
      ]
     },
     "execution_count": 13,
     "metadata": {},
     "output_type": "execute_result"
    }
   ],
   "source": [
    "#chain.invoke({\"question\": \"Can you list their names?\"})\n",
    "question = \"Can you list their names?\"\n",
    "chain.invoke({\"question\": question, \"input\": question,\"table_details\": table_details})"
   ]
  },
  {
   "cell_type": "markdown",
   "metadata": {},
   "source": [
    "**Adding few-shot prompt**\n"
   ]
  },
  {
   "cell_type": "code",
   "execution_count": 15,
   "metadata": {},
   "outputs": [],
   "source": [
    "examples = [\n",
    "    {\n",
    "        \"input\": \"List all customers in France with a credit limit over 20,000.\",\n",
    "        \"query\": \"SELECT * FROM customers WHERE country = 'France' AND creditLimit > 20000;\"\n",
    "    },\n",
    "    {\n",
    "        \"input\": \"Get the highest payment amount made by any customer.\",\n",
    "        \"query\": \"SELECT MAX(amount) FROM payments;\"\n",
    "    },\n",
    "    {\n",
    "        \"input\": \"Show product details for products in the 'Motorcycles' product line.\",\n",
    "        \"query\": \"SELECT * FROM products WHERE productLine = 'Motorcycles';\"\n",
    "    },\n",
    "    {\n",
    "        \"input\": \"Retrieve the names of employees who report to employee number 1002.\",\n",
    "        \"query\": \"SELECT firstName, lastName FROM employees WHERE reportsTo = 1002;\"\n",
    "    },\n",
    "    {\n",
    "        \"input\": \"List all products with a stock quantity less than 7000.\",\n",
    "        \"query\": \"SELECT productName, quantityInStock FROM products WHERE quantityInStock < 7000;\"\n",
    "    },\n",
    "    {\n",
    "     'input':\"what is price of `1968 Ford Mustang`\",\n",
    "     \"query\": \"SELECT `buyPrice`, `MSRP` FROM products  WHERE `productName` = '1968 Ford Mustang' LIMIT 1;\"\n",
    "    }\n",
    "]"
   ]
  },
  {
   "cell_type": "code",
   "execution_count": 16,
   "metadata": {},
   "outputs": [
    {
     "name": "stdout",
     "output_type": "stream",
     "text": [
      "Human: List all customers in France with a credit limit over 20,000.\n",
      "SQLQuery:\n",
      "AI: SELECT * FROM customers WHERE country = 'France' AND creditLimit > 20000;\n",
      "Human: Get the highest payment amount made by any customer.\n",
      "SQLQuery:\n",
      "AI: SELECT MAX(amount) FROM payments;\n",
      "Human: Show product details for products in the 'Motorcycles' product line.\n",
      "SQLQuery:\n",
      "AI: SELECT * FROM products WHERE productLine = 'Motorcycles';\n",
      "Human: Retrieve the names of employees who report to employee number 1002.\n",
      "SQLQuery:\n",
      "AI: SELECT firstName, lastName FROM employees WHERE reportsTo = 1002;\n",
      "Human: List all products with a stock quantity less than 7000.\n",
      "SQLQuery:\n",
      "AI: SELECT productName, quantityInStock FROM products WHERE quantityInStock < 7000;\n",
      "Human: what is price of `1968 Ford Mustang`\n",
      "SQLQuery:\n",
      "AI: SELECT `buyPrice`, `MSRP` FROM products  WHERE `productName` = '1968 Ford Mustang' LIMIT 1;\n"
     ]
    }
   ],
   "source": [
    "example_prompt = ChatPromptTemplate.from_messages(\n",
    "    [\n",
    "        (\"human\", \"{input}\\nSQLQuery:\"),\n",
    "        (\"ai\", \"{query}\"),\n",
    "    ]\n",
    ")\n",
    "few_shot_prompt = FewShotChatMessagePromptTemplate(\n",
    "    example_prompt=example_prompt,\n",
    "    examples=examples,\n",
    "    # input_variables=[\"input\",\"top_k\"],\n",
    "    input_variables=[\"input\",\"top_k\"],\n",
    ")\n",
    "print(few_shot_prompt.format(input1=\"How many products are there?\"))"
   ]
  },
  {
   "cell_type": "code",
   "execution_count": 17,
   "metadata": {},
   "outputs": [
    {
     "data": {
      "text/plain": [
       "[{'input': 'Retrieve the names of employees who report to employee number 1002.',\n",
       "  'query': 'SELECT firstName, lastName FROM employees WHERE reportsTo = 1002;'},\n",
       " {'input': 'List all customers in France with a credit limit over 20,000.',\n",
       "  'query': \"SELECT * FROM customers WHERE country = 'France' AND creditLimit > 20000;\"}]"
      ]
     },
     "execution_count": 17,
     "metadata": {},
     "output_type": "execute_result"
    }
   ],
   "source": [
    "# This is the embedding class used to produce embeddings which are used to measure semantic similarity.\n",
    "embeddings = AzureOpenAIEmbeddings(\n",
    "    azure_deployment=\"text-embedding-ada-002\",\n",
    "    openai_api_version=openai_api_version,\n",
    "    azure_endpoint=openai_api_base,\n",
    "    api_key=openai_api_key,\n",
    ")\n",
    "\n",
    "vectorstore = Chroma()\n",
    "\n",
    "example_selector = SemanticSimilarityExampleSelector.from_examples(\n",
    "    examples,\n",
    "    embeddings,\n",
    "    vectorstore,\n",
    "    k=2,\n",
    "    input_keys=[\"input\"],\n",
    ")\n",
    "example_selector.select_examples({\"input\": \"how many employees we have?\"})\n",
    "# example_selector.select_examples({\"input\": \"How many employees?\"})"
   ]
  },
  {
   "cell_type": "markdown",
   "metadata": {
    "id": "dvy70bh0W28Q"
   },
   "source": [
    "**Adding memory to the chatbot so that it answers follow-up questions related to the database.**\n"
   ]
  },
  {
   "cell_type": "code",
   "execution_count": 40,
   "metadata": {
    "colab": {
     "base_uri": "https://localhost:8080/"
    },
    "id": "StZ_P_5_87L6",
    "metadata": {},
    "outputId": "e4dfe90f-2907-4c3c-d01e-d44ef182cd42"
   },
   "outputs": [
    {
     "name": "stdout",
     "output_type": "stream",
     "text": [
      "System: You are a MySQL expert. Given an input question, create a syntactically correct MySQL query to run. Unless otherwise specificed.\n",
      "\n",
      "Here is the relevant table info: some table info\n",
      "\n",
      "Below are a number of examples of questions and their corresponding SQL queries. Those examples are just for referecne and hsould be considered while answering follow up questions\n",
      "Human: List all customers in France with a credit limit over 20,000.\n",
      "SQLQuery:\n",
      "AI: SELECT * FROM customers WHERE country = 'France' AND creditLimit > 20000;\n",
      "Human: Get the highest payment amount made by any customer.\n",
      "SQLQuery:\n",
      "AI: SELECT MAX(amount) FROM payments;\n",
      "Human: Show product details for products in the 'Motorcycles' product line.\n",
      "SQLQuery:\n",
      "AI: SELECT * FROM products WHERE productLine = 'Motorcycles';\n",
      "Human: Retrieve the names of employees who report to employee number 1002.\n",
      "SQLQuery:\n",
      "AI: SELECT firstName, lastName FROM employees WHERE reportsTo = 1002;\n",
      "Human: List all products with a stock quantity less than 7000.\n",
      "SQLQuery:\n",
      "AI: SELECT productName, quantityInStock FROM products WHERE quantityInStock < 7000;\n",
      "Human: what is price of `1968 Ford Mustang`\n",
      "SQLQuery:\n",
      "AI: SELECT `buyPrice`, `MSRP` FROM products  WHERE `productName` = '1968 Ford Mustang' LIMIT 1;\n",
      "Human: How many products are there?\n"
     ]
    }
   ],
   "source": [
    "final_prompt = ChatPromptTemplate.from_messages(\n",
    "    [\n",
    "        (\"system\", \"You are a MySQL expert. Given an input question, create a syntactically correct MySQL query to run. Unless otherwise specificed.\\n\\nHere is the relevant table info: {table_info}\\n\\nBelow are a number of examples of questions and their corresponding SQL queries. Those examples are just for referecne and hsould be considered while answering follow up questions\"),\n",
    "        few_shot_prompt,\n",
    "        MessagesPlaceholder(variable_name=\"messages\"),\n",
    "        (\"human\", \"{input}\"),\n",
    "    ]\n",
    ")\n",
    "print(final_prompt.format(input=\"How many products are there?\",table_info=\"some table info\",messages=[]))"
   ]
  },
  {
   "cell_type": "code",
   "execution_count": 22,
   "metadata": {
    "id": "OmXe-uWJ8lvt",
    "metadata": {}
   },
   "outputs": [],
   "source": [
    "\n",
    "history = ChatMessageHistory()\n",
    "\n",
    "generate_query = create_sql_query_chain(llm, db,final_prompt)\n",
    "\n",
    "chain = (\n",
    "RunnablePassthrough.assign(table_names_to_use=select_table) |\n",
    "RunnablePassthrough.assign(query=generate_query).assign(\n",
    "    result=itemgetter(\"query\") | execute_query\n",
    ")\n",
    "| rephrase_answer\n",
    ")"
   ]
  },
  {
   "cell_type": "code",
   "execution_count": 23,
   "metadata": {
    "colab": {
     "base_uri": "https://localhost:8080/",
     "height": 35
    },
    "id": "6x-mjNpo9lc8",
    "metadata": {},
    "outputId": "41c0b7b3-0563-4fda-e969-75aeb42d578a"
   },
   "outputs": [
    {
     "data": {
      "text/plain": [
       "'2'"
      ]
     },
     "execution_count": 23,
     "metadata": {},
     "output_type": "execute_result"
    }
   ],
   "source": [
    "question = \"How many customers with order count more than 5\"\n",
    "response = chain.invoke({\"question\": question,\"input\": question,\"table_details\":table_details,\"messages\":history.messages})\n",
    "response"
   ]
  },
  {
   "cell_type": "code",
   "execution_count": 24,
   "metadata": {
    "id": "k98Hmj2Y9mvk",
    "metadata": {}
   },
   "outputs": [
    {
     "data": {
      "text/plain": [
       "[HumanMessage(content='How many customers with order count more than 5'),\n",
       " AIMessage(content='2')]"
      ]
     },
     "execution_count": 24,
     "metadata": {},
     "output_type": "execute_result"
    }
   ],
   "source": [
    "history.add_user_message(question)\n",
    "history.add_ai_message(response)\n",
    "history.messages"
   ]
  },
  {
   "cell_type": "code",
   "execution_count": 25,
   "metadata": {
    "colab": {
     "base_uri": "https://localhost:8080/",
     "height": 35
    },
    "id": "ptN_RIoI-CZX",
    "metadata": {},
    "outputId": "58336587-f454-4bf8-a131-d45c96a47edc"
   },
   "outputs": [
    {
     "data": {
      "text/plain": [
       "'The names are Mini Gifts Distributors Ltd. and Euro+ Shopping Channel.'"
      ]
     },
     "execution_count": 25,
     "metadata": {},
     "output_type": "execute_result"
    }
   ],
   "source": [
    "question = \"Can you list there names?\"\n",
    "response = chain.invoke({\"question\": question,\"input\": question,\"table_details\":table_details,\"messages\":history.messages})\n",
    "response"
   ]
  }
 ],
 "metadata": {
  "colab": {
   "include_colab_link": true,
   "provenance": []
  },
  "kernelspec": {
   "display_name": "Python 3 (ipykernel)",
   "language": "python",
   "name": "python3"
  },
  "language_info": {
   "codemirror_mode": {
    "name": "ipython",
    "version": 3
   },
   "file_extension": ".py",
   "mimetype": "text/x-python",
   "name": "python",
   "nbconvert_exporter": "python",
   "pygments_lexer": "ipython3",
   "version": "3.11.7"
  }
 },
 "nbformat": 4,
 "nbformat_minor": 4
}
