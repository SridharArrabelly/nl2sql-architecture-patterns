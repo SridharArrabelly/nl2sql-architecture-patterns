{
 "cells": [
  {
   "cell_type": "markdown",
   "metadata": {
    "colab_type": "text",
    "id": "view-in-github"
   },
   "source": [
    "<a href=\"https://colab.research.google.com/github/PradipNichite/Youtube-Tutorials/blob/main/Langchain_NL2SQL_2024.ipynb\" target=\"_parent\"><img src=\"https://colab.research.google.com/assets/colab-badge.svg\" alt=\"Open In Colab\"/></a>\n"
   ]
  },
  {
   "cell_type": "markdown",
   "metadata": {
    "id": "l4gH0BcahHO6"
   },
   "source": [
    "https://www.aidemos.com/\n",
    "\n",
    "[Discover Best AI Tools with Video Demos](https://www.aidemos.com/)\n"
   ]
  },
  {
   "cell_type": "markdown",
   "metadata": {
    "id": "up5XHcGdVon2"
   },
   "source": [
    "1. Building a basic NL2SQL model\n",
    "2. Adding few-shot examples\n",
    "3. Dynamic few-shot example selection\n",
    "4. Dynamic relevant table selection (Large DB Isssue)\n",
    "5. Customizing prompts\n",
    "6. Adding memory to the chatbot so that it answers follow-up questions related to the database.\n"
   ]
  },
  {
   "cell_type": "markdown",
   "metadata": {},
   "source": [
    "https://github.com/PradipNichite/Youtube-Tutorials/blob/main/Langchain_NL2SQL_2024.ipynb\n"
   ]
  },
  {
   "cell_type": "code",
   "execution_count": 2,
   "metadata": {
    "id": "HUShN3Sm0Lr0"
   },
   "outputs": [],
   "source": [
    "!pip install langchain_openai langchain_community langchain langchain-experimental pymysql chromadb -q\n"
   ]
  },
  {
   "cell_type": "markdown",
   "metadata": {
    "id": "zROkmBChhBWy"
   },
   "source": [
    "https://www.mysqltutorial.org/getting-started-with-mysql/mysql-sample-database/\n"
   ]
  },
  {
   "cell_type": "code",
   "execution_count": 1,
   "metadata": {
    "id": "c91p9Ep90S9j",
    "metadata": {}
   },
   "outputs": [],
   "source": [
    "db_user = \"sa\"\n",
    "db_password = \"password123\"\n",
    "db_host = \"localhost\"\n",
    "db_name = \"AdventureWorks2022\"\n",
    "db_port = 3306\n"
   ]
  },
  {
   "cell_type": "markdown",
   "metadata": {
    "id": "OQJ4HJ-6WYjk"
   },
   "source": [
    "###Building a basic NL2SQL model\n"
   ]
  },
  {
   "cell_type": "code",
   "execution_count": 2,
   "metadata": {
    "id": "jiNjFg1i0U3Z",
    "metadata": {}
   },
   "outputs": [],
   "source": [
    "from langchain_community.utilities.sql_database import SQLDatabase\n",
    "# db = SQLDatabase.from_uri(f\"mysql+pymysql://{db_user}:{db_password}@{db_host}/{db_name}\",sample_rows_in_table_info=1,include_tables=['customers','orders'],custom_table_info={'customers':\"customer\"})\n",
    "#db = SQLDatabase.from_uri(f\"mssql+pymysql://{db_user}:{db_password}@{db_host}/{db_name}\")\n",
    "db = SQLDatabase.from_uri(f\"mssql+pyodbc://{db_user}:{db_password}@{db_host}/{db_name}?driver=ODBC+Driver+18+for+SQL+Server&TrustServerCertificate=yes\")\n"
   ]
  },
  {
   "cell_type": "code",
   "execution_count": 5,
   "metadata": {
    "colab": {
     "base_uri": "https://localhost:8080/"
    },
    "id": "4KJLTIDG0YJ5",
    "metadata": {},
    "outputId": "9ae26df1-a6ed-4e3f-e3e0-3b47144e8278"
   },
   "outputs": [
    {
     "name": "stdout",
     "output_type": "stream",
     "text": [
      "mssql\n",
      "['AWBuildVersion', 'DatabaseLog', 'ErrorLog', 'sysdiagrams']\n",
      "\n",
      "CREATE TABLE [AWBuildVersion] (\n",
      "\t[SystemInformationID] TINYINT NOT NULL IDENTITY(1,1), \n",
      "\t[Database Version] NVARCHAR(25) COLLATE SQL_Latin1_General_CP1_CI_AS NOT NULL, \n",
      "\t[VersionDate] DATETIME NOT NULL, \n",
      "\t[ModifiedDate] DATETIME NOT NULL DEFAULT (getdate()), \n",
      "\tCONSTRAINT [PK_AWBuildVersion_SystemInformationID] PRIMARY KEY ([SystemInformationID])\n",
      ")\n",
      "\n",
      "/*\n",
      "3 rows from AWBuildVersion table:\n",
      "SystemInformationID\tDatabase Version\tVersionDate\tModifiedDate\n",
      "1\t15.0.4280.7\t2023-01-23 13:08:53.190000\t2023-05-08 12:07:29.843000\n",
      "*/\n",
      "\n",
      "\n",
      "CREATE TABLE [DatabaseLog] (\n",
      "\t[DatabaseLogID] INTEGER NOT NULL IDENTITY(1,1), \n",
      "\t[PostTime] DATETIME NOT NULL, \n",
      "\t[DatabaseUser] NVARCHAR(128) COLLATE SQL_Latin1_General_CP1_CI_AS NOT NULL, \n",
      "\t[Event] NVARCHAR(128) COLLATE SQL_Latin1_General_CP1_CI_AS NOT NULL, \n",
      "\t[Schema] NVARCHAR(128) COLLATE SQL_Latin1_General_CP1_CI_AS NULL, \n",
      "\t[Object] NVARCHAR(128) COLLATE SQL_Latin1_General_CP1_CI_AS NULL, \n",
      "\t[TSQL] NVARCHAR(max) COLLATE SQL_Latin1_General_CP1_CI_AS NOT NULL, \n",
      "\t[XmlEvent] XML NOT NULL, \n",
      "\tCONSTRAINT [PK_DatabaseLog_DatabaseLogID] PRIMARY KEY ([DatabaseLogID])\n",
      ")\n",
      "\n",
      "/*\n",
      "3 rows from DatabaseLog table:\n",
      "DatabaseLogID\tPostTime\tDatabaseUser\tEvent\tSchema\tObject\tTSQL\tXmlEvent\n",
      "1\t2023-05-08 12:07:29.253000\tdbo\tCREATE_TABLE\tdbo\tErrorLog\tCREATE TABLE [dbo].[ErrorLog](\n",
      "    [ErrorLogID] [int] IDENTITY (1, 1) NOT NULL,\n",
      "    [ErrorTime] [d\t<EVENT_INSTANCE><EventType>CREATE_TABLE</EventType><PostTime>2023-05-08T12:07:29.243</PostTime><SPID\n",
      "2\t2023-05-08 12:07:29.260000\tdbo\tALTER_TABLE\tdbo\tErrorLog\tALTER TABLE [dbo].[ErrorLog] WITH CHECK ADD \n",
      "    CONSTRAINT [PK_ErrorLog_ErrorLogID] PRIMARY KEY CL\t<EVENT_INSTANCE><EventType>ALTER_TABLE</EventType><PostTime>2023-05-08T12:07:29.260</PostTime><SPID>\n",
      "5\t2023-05-08 12:07:29.270000\tdbo\tCREATE_TYPE\tdbo\tAccountNumber\tCREATE TYPE [AccountNumber] FROM nvarchar(15) NULL;\n",
      "\t<EVENT_INSTANCE><EventType>CREATE_TYPE</EventType><PostTime>2023-05-08T12:07:29.270</PostTime><SPID>\n",
      "*/\n",
      "\n",
      "\n",
      "CREATE TABLE [ErrorLog] (\n",
      "\t[ErrorLogID] INTEGER NOT NULL IDENTITY(1,1), \n",
      "\t[ErrorTime] DATETIME NOT NULL DEFAULT (getdate()), \n",
      "\t[UserName] NVARCHAR(128) COLLATE SQL_Latin1_General_CP1_CI_AS NOT NULL, \n",
      "\t[ErrorNumber] INTEGER NOT NULL, \n",
      "\t[ErrorSeverity] INTEGER NULL, \n",
      "\t[ErrorState] INTEGER NULL, \n",
      "\t[ErrorProcedure] NVARCHAR(126) COLLATE SQL_Latin1_General_CP1_CI_AS NULL, \n",
      "\t[ErrorLine] INTEGER NULL, \n",
      "\t[ErrorMessage] NVARCHAR(4000) COLLATE SQL_Latin1_General_CP1_CI_AS NOT NULL, \n",
      "\tCONSTRAINT [PK_ErrorLog_ErrorLogID] PRIMARY KEY ([ErrorLogID])\n",
      ")\n",
      "\n",
      "/*\n",
      "3 rows from ErrorLog table:\n",
      "ErrorLogID\tErrorTime\tUserName\tErrorNumber\tErrorSeverity\tErrorState\tErrorProcedure\tErrorLine\tErrorMessage\n",
      "\n",
      "*/\n",
      "\n",
      "\n",
      "CREATE TABLE sysdiagrams (\n",
      "\tname NVARCHAR(128) COLLATE SQL_Latin1_General_CP1_CI_AS NOT NULL, \n",
      "\tprincipal_id INTEGER NOT NULL, \n",
      "\tdiagram_id INTEGER NOT NULL IDENTITY(1,1), \n",
      "\tversion INTEGER NULL, \n",
      "\tdefinition VARBINARY(max) NULL, \n",
      "\tCONSTRAINT [PK__sysdiagr__C2B05B61E1132D0E] PRIMARY KEY (diagram_id)\n",
      ")\n",
      "\n",
      "/*\n",
      "3 rows from sysdiagrams table:\n",
      "name\tprincipal_id\tdiagram_id\tversion\tdefinition\n",
      "\n",
      "*/\n"
     ]
    }
   ],
   "source": [
    "print(db.dialect)\n",
    "print(db.get_usable_table_names())\n",
    "print(db.table_info)\n"
   ]
  },
  {
   "cell_type": "code",
   "execution_count": null,
   "metadata": {
    "id": "Z6IfK8MV0wXy"
   },
   "outputs": [],
   "source": [
    "import os\n",
    "os.environ[\"OPENAI_API_KEY\"] = \"\"\n",
    "os.environ[\"LANGCHAIN_TRACING_V2\"] = \"true\"\n",
    "os.environ[\"LANGCHAIN_API_KEY\"] = \"\"\n"
   ]
  },
  {
   "cell_type": "code",
   "execution_count": null,
   "metadata": {
    "colab": {
     "base_uri": "https://localhost:8080/"
    },
    "id": "RiCC2ZNA006l",
    "outputId": "8d23dbdc-d221-47cc-e7d0-f96394dd11ed"
   },
   "outputs": [
    {
     "name": "stdout",
     "output_type": "stream",
     "text": [
      "SELECT `buyPrice`, `MSRP`\n",
      "FROM products\n",
      "WHERE `productName` = '1968 Ford Mustang'\n",
      "LIMIT 1;\n"
     ]
    }
   ],
   "source": [
    "from langchain.chains import create_sql_query_chain\n",
    "from langchain_openai import ChatOpenAI\n",
    "\n",
    "llm = ChatOpenAI(model=\"gpt-3.5-turbo\", temperature=0)\n",
    "generate_query = create_sql_query_chain(llm, db)\n",
    "query = generate_query.invoke({\"question\": \"what is price of `1968 Ford Mustang`\"})\n",
    "# \"what is price of `1968 Ford Mustang`\"\n",
    "print(query)\n"
   ]
  },
  {
   "cell_type": "code",
   "execution_count": null,
   "metadata": {
    "colab": {
     "base_uri": "https://localhost:8080/",
     "height": 35
    },
    "id": "_BxL9qfW1el6",
    "outputId": "254a2ff3-e3d8-4fb8-ba95-a94ce578808c"
   },
   "outputs": [
    {
     "data": {
      "application/vnd.google.colaboratory.intrinsic+json": {
       "type": "string"
      },
      "text/plain": [
       "\"[(Decimal('95.34'), Decimal('194.57'))]\""
      ]
     },
     "execution_count": 10,
     "metadata": {},
     "output_type": "execute_result"
    }
   ],
   "source": [
    "from langchain_community.tools.sql_database.tool import QuerySQLDataBaseTool\n",
    "execute_query = QuerySQLDataBaseTool(db=db)\n",
    "execute_query.invoke(query)\n"
   ]
  },
  {
   "cell_type": "code",
   "execution_count": null,
   "metadata": {
    "colab": {
     "base_uri": "https://localhost:8080/",
     "height": 35
    },
    "id": "Kf2TzUe203vc",
    "outputId": "a2c1ad8e-2b78-4341-b442-99ba68697c13"
   },
   "outputs": [
    {
     "data": {
      "application/vnd.google.colaboratory.intrinsic+json": {
       "type": "string"
      },
      "text/plain": [
       "'[(326,)]'"
      ]
     },
     "execution_count": 11,
     "metadata": {},
     "output_type": "execute_result"
    }
   ],
   "source": [
    "chain = generate_query | execute_query\n",
    "chain.invoke({\"question\": \"How many orders are there\"})\n"
   ]
  },
  {
   "cell_type": "code",
   "execution_count": null,
   "metadata": {
    "colab": {
     "base_uri": "https://localhost:8080/"
    },
    "id": "WkyqNw9f1JE3",
    "outputId": "c979a3c6-1d8c-4787-dd07-b806cb7d55db"
   },
   "outputs": [
    {
     "name": "stdout",
     "output_type": "stream",
     "text": [
      "You are a MySQL expert. Given an input question, first create a syntactically correct MySQL query to run, then look at the results of the query and return the answer to the input question.\n",
      "Unless the user specifies in the question a specific number of examples to obtain, query for at most 5 results using the LIMIT clause as per MySQL. You can order the results to return the most informative data in the database.\n",
      "Never query for all columns from a table. You must query only the columns that are needed to answer the question. Wrap each column name in backticks (`) to denote them as delimited identifiers.\n",
      "Pay attention to use only the column names you can see in the tables below. Be careful to not query for columns that do not exist. Also, pay attention to which column is in which table.\n",
      "Pay attention to use CURDATE() function to get the current date, if the question involves \"today\".\n",
      "\n",
      "Use the following format:\n",
      "\n",
      "Question: Question here\n",
      "SQLQuery: SQL Query to run\n",
      "SQLResult: Result of the SQLQuery\n",
      "Answer: Final answer here\n",
      "\n",
      "Only use the following tables:\n",
      "\u001b[33;1m\u001b[1;3m{table_info}\u001b[0m\n",
      "\n",
      "Question: \u001b[33;1m\u001b[1;3m{input}\u001b[0m\n"
     ]
    }
   ],
   "source": [
    "chain.get_prompts()[0].pretty_print()\n"
   ]
  },
  {
   "cell_type": "code",
   "execution_count": null,
   "metadata": {
    "colab": {
     "base_uri": "https://localhost:8080/",
     "height": 35
    },
    "id": "KVCYCPpU2s1d",
    "outputId": "3ea35814-8bc6-44eb-e106-f8c77922830a"
   },
   "outputs": [
    {
     "data": {
      "application/vnd.google.colaboratory.intrinsic+json": {
       "type": "string"
      },
      "text/plain": [
       "'There are a total of 326 orders.'"
      ]
     },
     "execution_count": 13,
     "metadata": {},
     "output_type": "execute_result"
    }
   ],
   "source": [
    "from operator import itemgetter\n",
    "\n",
    "from langchain_core.output_parsers import StrOutputParser\n",
    "from langchain_core.prompts import PromptTemplate\n",
    "from langchain_core.runnables import RunnablePassthrough\n",
    "\n",
    "answer_prompt = PromptTemplate.from_template(\n",
    "    \"\"\"Given the following user question, corresponding SQL query, and SQL result, answer the user question.\n",
    "\n",
    "Question: {question}\n",
    "SQL Query: {query}\n",
    "SQL Result: {result}\n",
    "Answer: \"\"\"\n",
    ")\n",
    "\n",
    "rephrase_answer = answer_prompt | llm | StrOutputParser()\n",
    "\n",
    "chain = (\n",
    "    RunnablePassthrough.assign(query=generate_query).assign(\n",
    "        result=itemgetter(\"query\") | execute_query\n",
    "    )\n",
    "    | rephrase_answer\n",
    ")\n",
    "\n",
    "chain.invoke({\"question\": \"How many orders are there\"})\n"
   ]
  },
  {
   "cell_type": "markdown",
   "metadata": {
    "id": "uPkoDITyWfxG"
   },
   "source": [
    "###Adding few-shot examples\n"
   ]
  },
  {
   "cell_type": "code",
   "execution_count": null,
   "metadata": {
    "id": "qJZ8vYwD3I4m"
   },
   "outputs": [],
   "source": [
    "examples = [\n",
    "    {\n",
    "        \"input\": \"List all customers in France with a credit limit over 20,000.\",\n",
    "        \"query\": \"SELECT * FROM customers WHERE country = 'France' AND creditLimit > 20000;\"\n",
    "    },\n",
    "    {\n",
    "        \"input\": \"Get the highest payment amount made by any customer.\",\n",
    "        \"query\": \"SELECT MAX(amount) FROM payments;\"\n",
    "    },\n",
    "    {\n",
    "        \"input\": \"Show product details for products in the 'Motorcycles' product line.\",\n",
    "        \"query\": \"SELECT * FROM products WHERE productLine = 'Motorcycles';\"\n",
    "    },\n",
    "    {\n",
    "        \"input\": \"Retrieve the names of employees who report to employee number 1002.\",\n",
    "        \"query\": \"SELECT firstName, lastName FROM employees WHERE reportsTo = 1002;\"\n",
    "    },\n",
    "    {\n",
    "        \"input\": \"List all products with a stock quantity less than 7000.\",\n",
    "        \"query\": \"SELECT productName, quantityInStock FROM products WHERE quantityInStock < 7000;\"\n",
    "    },\n",
    "    {\n",
    "     'input':\"what is price of `1968 Ford Mustang`\",\n",
    "     \"query\": \"SELECT `buyPrice`, `MSRP` FROM products  WHERE `productName` = '1968 Ford Mustang' LIMIT 1;\"\n",
    "    }\n",
    "]\n"
   ]
  },
  {
   "cell_type": "code",
   "execution_count": null,
   "metadata": {
    "colab": {
     "base_uri": "https://localhost:8080/"
    },
    "id": "H3sLLayg3WV6",
    "outputId": "23f9b669-968f-4666-d78b-5ec08aa2d381"
   },
   "outputs": [
    {
     "name": "stdout",
     "output_type": "stream",
     "text": [
      "Human: List all customers in France with a credit limit over 20,000.\n",
      "SQLQuery:\n",
      "AI: SELECT * FROM customers WHERE country = 'France' AND creditLimit > 20000;\n",
      "Human: Get the highest payment amount made by any customer.\n",
      "SQLQuery:\n",
      "AI: SELECT MAX(amount) FROM payments;\n",
      "Human: Show product details for products in the 'Motorcycles' product line.\n",
      "SQLQuery:\n",
      "AI: SELECT * FROM products WHERE productLine = 'Motorcycles';\n",
      "Human: Retrieve the names of employees who report to employee number 1002.\n",
      "SQLQuery:\n",
      "AI: SELECT firstName, lastName FROM employees WHERE reportsTo = 1002;\n",
      "Human: List all products with a stock quantity less than 7000.\n",
      "SQLQuery:\n",
      "AI: SELECT productName, quantityInStock FROM products WHERE quantityInStock < 7000;\n",
      "Human: what is price of `1968 Ford Mustang`\n",
      "SQLQuery:\n",
      "AI: SELECT `buyPrice`, `MSRP` FROM products  WHERE `productName` = '1968 Ford Mustang' LIMIT 1;\n"
     ]
    }
   ],
   "source": [
    "from langchain_core.prompts import ChatPromptTemplate, MessagesPlaceholder,FewShotChatMessagePromptTemplate,PromptTemplate\n",
    "\n",
    "example_prompt = ChatPromptTemplate.from_messages(\n",
    "    [\n",
    "        (\"human\", \"{input}\\nSQLQuery:\"),\n",
    "        (\"ai\", \"{query}\"),\n",
    "    ]\n",
    ")\n",
    "few_shot_prompt = FewShotChatMessagePromptTemplate(\n",
    "    example_prompt=example_prompt,\n",
    "    examples=examples,\n",
    "    # input_variables=[\"input\",\"top_k\"],\n",
    "    input_variables=[\"input\"],\n",
    ")\n",
    "print(few_shot_prompt.format(input1=\"How many products are there?\"))\n"
   ]
  },
  {
   "cell_type": "markdown",
   "metadata": {
    "id": "JRjiZ1O-WkX5"
   },
   "source": [
    "###Dynamic few-shot example selection\n"
   ]
  },
  {
   "cell_type": "code",
   "execution_count": null,
   "metadata": {
    "colab": {
     "base_uri": "https://localhost:8080/"
    },
    "id": "FLLY5GkD4FaJ",
    "outputId": "146693c9-0f03-43b1-e03b-aad5c84f1490"
   },
   "outputs": [
    {
     "data": {
      "text/plain": [
       "[{'input': 'Retrieve the names of employees who report to employee number 1002.',\n",
       "  'query': 'SELECT firstName, lastName FROM employees WHERE reportsTo = 1002;'},\n",
       " {'input': 'List all customers in France with a credit limit over 20,000.',\n",
       "  'query': \"SELECT * FROM customers WHERE country = 'France' AND creditLimit > 20000;\"}]"
      ]
     },
     "execution_count": 20,
     "metadata": {},
     "output_type": "execute_result"
    }
   ],
   "source": [
    "from langchain_community.vectorstores import Chroma\n",
    "from langchain_core.example_selectors import SemanticSimilarityExampleSelector\n",
    "from langchain_openai import OpenAIEmbeddings\n",
    "\n",
    "vectorstore = Chroma()\n",
    "vectorstore.delete_collection()\n",
    "example_selector = SemanticSimilarityExampleSelector.from_examples(\n",
    "    examples,\n",
    "    OpenAIEmbeddings(),\n",
    "    vectorstore,\n",
    "    k=2,\n",
    "    input_keys=[\"input\"],\n",
    ")\n",
    "example_selector.select_examples({\"input\": \"how many employees we have?\"})\n",
    "# example_selector.select_examples({\"input\": \"How many employees?\"})\n"
   ]
  },
  {
   "cell_type": "code",
   "execution_count": null,
   "metadata": {
    "colab": {
     "base_uri": "https://localhost:8080/"
    },
    "id": "4rID0Q0d4jHj",
    "outputId": "bcf8be92-d57d-40d0-a0b2-4d06a99c701b"
   },
   "outputs": [
    {
     "name": "stdout",
     "output_type": "stream",
     "text": [
      "Human: List all products with a stock quantity less than 7000.\n",
      "SQLQuery:\n",
      "AI: SELECT productName, quantityInStock FROM products WHERE quantityInStock < 7000;\n",
      "Human: Show product details for products in the 'Motorcycles' product line.\n",
      "SQLQuery:\n",
      "AI: SELECT * FROM products WHERE productLine = 'Motorcycles';\n"
     ]
    }
   ],
   "source": [
    "few_shot_prompt = FewShotChatMessagePromptTemplate(\n",
    "    example_prompt=example_prompt,\n",
    "    example_selector=example_selector,\n",
    "    input_variables=[\"input\",\"top_k\"],\n",
    ")\n",
    "print(few_shot_prompt.format(input=\"How many products are there?\"))\n"
   ]
  },
  {
   "cell_type": "markdown",
   "metadata": {
    "id": "72ZSFWBeW_tE"
   },
   "source": [
    "Customizing prompts\n"
   ]
  },
  {
   "cell_type": "code",
   "execution_count": null,
   "metadata": {
    "colab": {
     "base_uri": "https://localhost:8080/"
    },
    "id": "PCnlv2pd469x",
    "outputId": "06cc26ba-82fc-42a4-f195-e71915a6cb58"
   },
   "outputs": [
    {
     "name": "stdout",
     "output_type": "stream",
     "text": [
      "System: You are a MySQL expert. Given an input question, create a syntactically correct MySQL query to run. Unless otherwise specificed.\n",
      "\n",
      "Here is the relevant table info: some table info\n",
      "\n",
      "Below are a number of examples of questions and their corresponding SQL queries.\n",
      "Human: List all products with a stock quantity less than 7000.\n",
      "SQLQuery:\n",
      "AI: SELECT productName, quantityInStock FROM products WHERE quantityInStock < 7000;\n",
      "Human: Show product details for products in the 'Motorcycles' product line.\n",
      "SQLQuery:\n",
      "AI: SELECT * FROM products WHERE productLine = 'Motorcycles';\n",
      "Human: How many products are there?\n"
     ]
    }
   ],
   "source": [
    "final_prompt = ChatPromptTemplate.from_messages(\n",
    "    [\n",
    "        (\"system\", \"You are a MySQL expert. Given an input question, create a syntactically correct MySQL query to run. Unless otherwise specificed.\\n\\nHere is the relevant table info: {table_info}\\n\\nBelow are a number of examples of questions and their corresponding SQL queries.\"),\n",
    "        few_shot_prompt,\n",
    "        (\"human\", \"{input}\"),\n",
    "    ]\n",
    ")\n",
    "print(final_prompt.format(input=\"How many products are there?\",table_info=\"some table info\"))\n"
   ]
  },
  {
   "cell_type": "code",
   "execution_count": null,
   "metadata": {
    "colab": {
     "base_uri": "https://localhost:8080/",
     "height": 35
    },
    "id": "eN7UFbYs5ULO",
    "outputId": "33079972-0f2e-4c75-9294-0e87093d7348"
   },
   "outputs": [
    {
     "data": {
      "application/vnd.google.colaboratory.intrinsic+json": {
       "type": "string"
      },
      "text/plain": [
       "'There are 85 customers with a credit limit greater than 50000.'"
      ]
     },
     "execution_count": 25,
     "metadata": {},
     "output_type": "execute_result"
    }
   ],
   "source": [
    "generate_query = create_sql_query_chain(llm, db,final_prompt)\n",
    "chain = (\n",
    "RunnablePassthrough.assign(query=generate_query).assign(\n",
    "    result=itemgetter(\"query\") | execute_query\n",
    ")\n",
    "| rephrase_answer\n",
    ")\n",
    "chain.invoke({\"question\": \"How many csutomers with credit limit more than 50000\"})\n"
   ]
  },
  {
   "cell_type": "markdown",
   "metadata": {
    "id": "VzLDjfdJWxQ0"
   },
   "source": [
    "###Dynamic relevant table selection\n"
   ]
  },
  {
   "cell_type": "code",
   "execution_count": null,
   "metadata": {
    "colab": {
     "base_uri": "https://localhost:8080/"
    },
    "id": "fuTfq0e-6Mgi",
    "outputId": "39705a0e-eccd-48f3-bdd8-80ee970c1369"
   },
   "outputs": [
    {
     "name": "stdout",
     "output_type": "stream",
     "text": [
      "Table Name:productlines\n",
      "Table Description:Stores information about the different product lines offered by the company, including a unique name, textual description, HTML description, and image. Categorizes products into different lines.\n",
      "\n",
      "Table Name:products\n",
      "Table Description:Contains details of each product sold by the company, including code, name, product line, scale, vendor, description, stock quantity, buy price, and MSRP. Linked to the productlines table.\n",
      "\n",
      "Table Name:offices\n",
      "Table Description:Holds data on the company's sales offices, including office code, city, phone number, address, state, country, postal code, and territory. Each office is uniquely identified by its office code.\n",
      "\n",
      "Table Name:employees\n",
      "Table Description:Stores information about employees, including number, last name, first name, job title, contact info, and office code. Links to offices and maps organizational structure through the reportsTo attribute.\n",
      "\n",
      "Table Name:customers\n",
      "Table Description:Captures data on customers, including customer number, name, contact details, address, assigned sales rep, and credit limit. Central to managing customer relationships and sales processes.\n",
      "\n",
      "Table Name:payments\n",
      "Table Description:Records payments made by customers, tracking the customer number, check number, payment date, and amount. Linked to the customers table for financial tracking and account management.\n",
      "\n",
      "Table Name:orders\n",
      "Table Description:Details each sales order placed by customers, including order number, dates, status, comments, and customer number. Linked to the customers table, tracking sales transactions.\n",
      "\n",
      "Table Name:orderdetails\n",
      "Table Description:Describes individual line items for each sales order, including order number, product code, quantity, price, and order line number. Links orders to products, detailing the items sold.\n",
      "\n",
      "\n"
     ]
    }
   ],
   "source": [
    "from operator import itemgetter\n",
    "from langchain.chains.openai_tools import create_extraction_chain_pydantic\n",
    "from langchain_core.pydantic_v1 import BaseModel, Field\n",
    "from typing import List\n",
    "import pandas as pd\n",
    "\n",
    "def get_table_details():\n",
    "    # Read the CSV file into a DataFrame\n",
    "    table_description = pd.read_csv(\"database_table_descriptions.csv\")\n",
    "    table_docs = []\n",
    "\n",
    "    # Iterate over the DataFrame rows to create Document objects\n",
    "    table_details = \"\"\n",
    "    for index, row in table_description.iterrows():\n",
    "        table_details = table_details + \"Table Name:\" + row['Table'] + \"\\n\" + \"Table Description:\" + row['Description'] + \"\\n\\n\"\n",
    "\n",
    "    return table_details\n",
    "\n",
    "\n",
    "class Table(BaseModel):\n",
    "    \"\"\"Table in SQL database.\"\"\"\n",
    "\n",
    "    name: str = Field(description=\"Name of table in SQL database.\")\n",
    "\n",
    "# table_names = \"\\n\".join(db.get_usable_table_names())\n",
    "table_details = get_table_details()\n",
    "print(table_details)\n"
   ]
  },
  {
   "cell_type": "code",
   "execution_count": null,
   "metadata": {
    "colab": {
     "base_uri": "https://localhost:8080/"
    },
    "id": "GA1TjUgm7EST",
    "outputId": "728a398c-2256-478f-dd17-ebf4b40ebfa4"
   },
   "outputs": [
    {
     "data": {
      "text/plain": [
       "[Table(name='customers'), Table(name='orders')]"
      ]
     },
     "execution_count": 27,
     "metadata": {},
     "output_type": "execute_result"
    }
   ],
   "source": [
    "table_details_prompt = f\"\"\"Return the names of ALL the SQL tables that MIGHT be relevant to the user question. \\\n",
    "The tables are:\n",
    "\n",
    "{table_details}\n",
    "\n",
    "Remember to include ALL POTENTIALLY RELEVANT tables, even if you're not sure that they're needed.\"\"\"\n",
    "\n",
    "table_chain = create_extraction_chain_pydantic(Table, llm, system_message=table_details_prompt)\n",
    "tables = table_chain.invoke({\"input\": \"give me details of customer and their order count\"})\n",
    "tables\n"
   ]
  },
  {
   "cell_type": "code",
   "execution_count": null,
   "metadata": {
    "colab": {
     "base_uri": "https://localhost:8080/"
    },
    "id": "rTf1SphE69Xf",
    "outputId": "f8aac43c-b136-41a4-84d6-7ee08f9de0e3"
   },
   "outputs": [
    {
     "data": {
      "text/plain": [
       "['customers', 'orders']"
      ]
     },
     "execution_count": 36,
     "metadata": {},
     "output_type": "execute_result"
    }
   ],
   "source": [
    "def get_tables(tables: List[Table]) -> List[str]:\n",
    "    tables  = [table.name for table in tables]\n",
    "    return tables\n",
    "\n",
    "select_table = {\"input\": itemgetter(\"question\")} | create_extraction_chain_pydantic(Table, llm, system_message=table_details_prompt) | get_tables\n",
    "select_table.invoke({\"question\": \"give me details of customer and their order count\"})\n"
   ]
  },
  {
   "cell_type": "code",
   "execution_count": null,
   "metadata": {
    "colab": {
     "base_uri": "https://localhost:8080/",
     "height": 35
    },
    "id": "6DyhowwN71ts",
    "outputId": "1c15d2ea-ee61-4647-8978-a598c9736784"
   },
   "outputs": [
    {
     "data": {
      "application/vnd.google.colaboratory.intrinsic+json": {
       "type": "string"
      },
      "text/plain": [
       "'There are 2 customers with an order count of more than 5.'"
      ]
     },
     "execution_count": 37,
     "metadata": {},
     "output_type": "execute_result"
    }
   ],
   "source": [
    "chain = (\n",
    "RunnablePassthrough.assign(table_names_to_use=select_table) |\n",
    "RunnablePassthrough.assign(query=generate_query).assign(\n",
    "    result=itemgetter(\"query\") | execute_query\n",
    ")\n",
    "| rephrase_answer\n",
    ")\n",
    "chain.invoke({\"question\": \"How many cutomers with order count more than 5\"})\n"
   ]
  },
  {
   "cell_type": "code",
   "execution_count": null,
   "metadata": {
    "colab": {
     "base_uri": "https://localhost:8080/",
     "height": 70
    },
    "id": "2GGHwgnI8T7i",
    "outputId": "2851a64e-7b99-4d17-fc02-ffd40027bafe"
   },
   "outputs": [
    {
     "data": {
      "application/vnd.google.colaboratory.intrinsic+json": {
       "type": "string"
      },
      "text/plain": [
       "\"The names of the customers in France with a credit limit greater than $20,000 are: Atelier graphique, La Rochelle Gifts, Saveley & Henriot, Co., Daedalus Designs Imports, La Corne D'abondance, Co., Mini Caravy, Alpha Cognac, Lyon Souveniers, Auto Associés & Cie., Marseille Mini Autos, Reims Collectables, and Auto Canal+ Petit.\""
      ]
     },
     "execution_count": 38,
     "metadata": {},
     "output_type": "execute_result"
    }
   ],
   "source": [
    "chain.invoke({\"question\": \"Can you list their names?\"})\n"
   ]
  },
  {
   "cell_type": "markdown",
   "metadata": {
    "id": "dvy70bh0W28Q"
   },
   "source": [
    "###Adding memory to the chatbot so that it answers follow-up questions related to the database.\n"
   ]
  },
  {
   "cell_type": "code",
   "execution_count": null,
   "metadata": {
    "colab": {
     "base_uri": "https://localhost:8080/"
    },
    "id": "StZ_P_5_87L6",
    "outputId": "e4dfe90f-2907-4c3c-d01e-d44ef182cd42"
   },
   "outputs": [
    {
     "name": "stdout",
     "output_type": "stream",
     "text": [
      "System: You are a MySQL expert. Given an input question, create a syntactically correct MySQL query to run. Unless otherwise specificed.\n",
      "\n",
      "Here is the relevant table info: some table info\n",
      "\n",
      "Below are a number of examples of questions and their corresponding SQL queries. Those examples are just for referecne and hsould be considered while answering follow up questions\n",
      "Human: List all products with a stock quantity less than 7000.\n",
      "SQLQuery:\n",
      "AI: SELECT productName, quantityInStock FROM products WHERE quantityInStock < 7000;\n",
      "Human: Show product details for products in the 'Motorcycles' product line.\n",
      "SQLQuery:\n",
      "AI: SELECT * FROM products WHERE productLine = 'Motorcycles';\n",
      "Human: How many products are there?\n"
     ]
    }
   ],
   "source": [
    "final_prompt = ChatPromptTemplate.from_messages(\n",
    "    [\n",
    "        (\"system\", \"You are a MySQL expert. Given an input question, create a syntactically correct MySQL query to run. Unless otherwise specificed.\\n\\nHere is the relevant table info: {table_info}\\n\\nBelow are a number of examples of questions and their corresponding SQL queries. Those examples are just for referecne and hsould be considered while answering follow up questions\"),\n",
    "        few_shot_prompt,\n",
    "        MessagesPlaceholder(variable_name=\"messages\"),\n",
    "        (\"human\", \"{input}\"),\n",
    "    ]\n",
    ")\n",
    "print(final_prompt.format(input=\"How many products are there?\",table_info=\"some table info\",messages=[]))\n"
   ]
  },
  {
   "cell_type": "code",
   "execution_count": null,
   "metadata": {
    "id": "OmXe-uWJ8lvt"
   },
   "outputs": [],
   "source": [
    "from langchain.memory import ChatMessageHistory\n",
    "history = ChatMessageHistory()\n",
    "\n",
    "generate_query = create_sql_query_chain(llm, db,final_prompt)\n",
    "\n",
    "chain = (\n",
    "RunnablePassthrough.assign(table_names_to_use=select_table) |\n",
    "RunnablePassthrough.assign(query=generate_query).assign(\n",
    "    result=itemgetter(\"query\") | execute_query\n",
    ")\n",
    "| rephrase_answer\n",
    ")\n"
   ]
  },
  {
   "cell_type": "code",
   "execution_count": null,
   "metadata": {
    "colab": {
     "base_uri": "https://localhost:8080/",
     "height": 35
    },
    "id": "6x-mjNpo9lc8",
    "outputId": "41c0b7b3-0563-4fda-e969-75aeb42d578a"
   },
   "outputs": [
    {
     "data": {
      "application/vnd.google.colaboratory.intrinsic+json": {
       "type": "string"
      },
      "text/plain": [
       "'There are 2 customers with an order count of more than 5.'"
      ]
     },
     "execution_count": 41,
     "metadata": {},
     "output_type": "execute_result"
    }
   ],
   "source": [
    "question = \"How many cutomers with order count more than 5\"\n",
    "response = chain.invoke({\"question\": question,\"messages\":history.messages})\n",
    "response\n"
   ]
  },
  {
   "cell_type": "code",
   "execution_count": null,
   "metadata": {
    "id": "k98Hmj2Y9mvk"
   },
   "outputs": [],
   "source": [
    "history.add_user_message(question)\n",
    "history.add_ai_message(response)\n"
   ]
  },
  {
   "cell_type": "code",
   "execution_count": null,
   "metadata": {
    "colab": {
     "base_uri": "https://localhost:8080/"
    },
    "id": "x9DLodzOonza",
    "outputId": "214bda35-1b95-4fa6-881f-d3cd62c7265d"
   },
   "outputs": [
    {
     "data": {
      "text/plain": [
       "[HumanMessage(content='How many cutomers with order count more than 5'),\n",
       " AIMessage(content='There are 2 customers with an order count of more than 5.')]"
      ]
     },
     "execution_count": 43,
     "metadata": {},
     "output_type": "execute_result"
    }
   ],
   "source": [
    "history.messages\n"
   ]
  },
  {
   "cell_type": "code",
   "execution_count": null,
   "metadata": {
    "colab": {
     "base_uri": "https://localhost:8080/",
     "height": 35
    },
    "id": "ptN_RIoI-CZX",
    "outputId": "58336587-f454-4bf8-a131-d45c96a47edc"
   },
   "outputs": [
    {
     "data": {
      "application/vnd.google.colaboratory.intrinsic+json": {
       "type": "string"
      },
      "text/plain": [
       "'The names of the customers with more than 5 orders are Mini Gifts Distributors Ltd. and Euro+ Shopping Channel.'"
      ]
     },
     "execution_count": 44,
     "metadata": {},
     "output_type": "execute_result"
    }
   ],
   "source": [
    "response = chain.invoke({\"question\": \"Can you list there names?\",\"messages\":history.messages})\n",
    "response\n"
   ]
  },
  {
   "cell_type": "code",
   "execution_count": null,
   "metadata": {
    "id": "HVhNmBZcotjH"
   },
   "outputs": [],
   "source": []
  }
 ],
 "metadata": {
  "colab": {
   "include_colab_link": true,
   "provenance": []
  },
  "kernelspec": {
   "display_name": "Python 3 (ipykernel)",
   "language": "python",
   "name": "python3"
  },
  "language_info": {
   "codemirror_mode": {
    "name": "ipython",
    "version": 3
   },
   "file_extension": ".py",
   "mimetype": "text/x-python",
   "name": "python",
   "nbconvert_exporter": "python",
   "pygments_lexer": "ipython3",
   "version": "3.11.7"
  }
 },
 "nbformat": 4,
 "nbformat_minor": 4
}
