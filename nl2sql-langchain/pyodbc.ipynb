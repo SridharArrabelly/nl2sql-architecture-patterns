{
 "cells": [
  {
   "cell_type": "code",
   "execution_count": 15,
   "id": "81264cb8-f5d4-4e07-a9f3-54b9c4d8855d",
   "metadata": {
    "metadata": {}
   },
   "outputs": [],
   "source": [
    "import pyodbc\n"
   ]
  },
  {
   "cell_type": "code",
   "execution_count": 16,
   "id": "d3dc53f8-549e-41cd-9837-c3a1bc08a25d",
   "metadata": {
    "metadata": {}
   },
   "outputs": [],
   "source": [
    "SERVER = 'localhost'\n",
    "DATABASE = 'AdventureWorks2022'\n",
    "USERNAME = 'sa'\n",
    "PASSWORD = 'password123'\n"
   ]
  },
  {
   "cell_type": "code",
   "execution_count": 17,
   "id": "d631f1e9-3d7a-47a1-aed4-2aa7dcbb3c51",
   "metadata": {
    "metadata": {}
   },
   "outputs": [],
   "source": [
    "connectionString = f'DRIVER={{ODBC Driver 18 for SQL Server}};SERVER={SERVER};DATABASE={DATABASE};UID={USERNAME};PWD={PASSWORD};TrustServerCertificate=yes'\n"
   ]
  },
  {
   "cell_type": "code",
   "execution_count": 18,
   "id": "39f4d2c8-f07e-4403-985b-5f1a9dcfb9aa",
   "metadata": {
    "metadata": {}
   },
   "outputs": [],
   "source": [
    "conn = pyodbc.connect(connectionString)\n"
   ]
  },
  {
   "cell_type": "code",
   "execution_count": 19,
   "id": "dfa23c84-8dae-4cd1-b72d-fcb305e13ed1",
   "metadata": {
    "metadata": {}
   },
   "outputs": [],
   "source": [
    "SQL_QUERY = \"\"\"\n",
    "SELECT TOP 10\n",
    "      FirstName\n",
    "      ,MiddleName\n",
    "      ,LastName\n",
    "  FROM [AdventureWorks2022].Person.Person;\n",
    "\"\"\"\n"
   ]
  },
  {
   "cell_type": "code",
   "execution_count": 20,
   "id": "a4f92822-8eae-45d1-b25f-321715966806",
   "metadata": {
    "metadata": {}
   },
   "outputs": [
    {
     "data": {
      "text/plain": [
       "<pyodbc.Cursor at 0x279158dacb0>"
      ]
     },
     "execution_count": 20,
     "metadata": {},
     "output_type": "execute_result"
    }
   ],
   "source": [
    "\n",
    "cursor = conn.cursor()\n",
    "cursor.execute(SQL_QUERY)\n"
   ]
  },
  {
   "cell_type": "code",
   "execution_count": 21,
   "id": "b2e8f64a-f746-487a-9316-95dfdbad6fc8",
   "metadata": {
    "metadata": {}
   },
   "outputs": [
    {
     "name": "stdout",
     "output_type": "stream",
     "text": [
      "Syed\tE\tAbbas\n",
      "Catherine\tR.\tAbel\n",
      "Kim\tNone\tAbercrombie\n",
      "Kim\tNone\tAbercrombie\n",
      "Kim\tB\tAbercrombie\n",
      "Hazem\tE\tAbolrous\n",
      "Sam\tNone\tAbolrous\n",
      "Humberto\tNone\tAcevedo\n",
      "Gustavo\tNone\tAchong\n",
      "Pilar\tNone\tAckerman\n"
     ]
    }
   ],
   "source": [
    "records = cursor.fetchall()\n",
    "for r in records:\n",
    "    print(f\"{r.FirstName}\\t{r.MiddleName}\\t{r.LastName}\")\n"
   ]
  },
  {
   "cell_type": "code",
   "execution_count": null,
   "id": "77673577-d10b-4c83-9dbc-24d980a749cf",
   "metadata": {
    "metadata": {}
   },
   "outputs": [],
   "source": []
  }
 ],
 "metadata": {
  "kernelspec": {
   "display_name": "Python 3 (ipykernel)",
   "language": "python",
   "name": "python3"
  },
  "language_info": {
   "codemirror_mode": {
    "name": "ipython",
    "version": 3
   },
   "file_extension": ".py",
   "mimetype": "text/x-python",
   "name": "python",
   "nbconvert_exporter": "python",
   "pygments_lexer": "ipython3",
   "version": "3.11.7"
  }
 },
 "nbformat": 4,
 "nbformat_minor": 5
}
