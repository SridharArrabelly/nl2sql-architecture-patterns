{
 "cells": [
  {
   "cell_type": "markdown",
   "metadata": {},
   "source": [
    "## How to use LangChain and Azure OpenAI with Python\n",
    "##### Langchain is an open source framework for developing applications using large language models (LLM).\n",
    "##### This guide will demonstrate how to setup and use Azure OpenAI models' API with LangChain."
   ]
  },
  {
   "cell_type": "markdown",
   "metadata": {},
   "source": []
  },
  {
   "cell_type": "markdown",
   "metadata": {},
   "source": [
    "### Set Up\n",
    "##### The following libraries must be installed to use LangChain with Azure OpenAI."
   ]
  },
  {
   "cell_type": "code",
   "execution_count": null,
   "metadata": {},
   "outputs": [],
   "source": [
    "#%pip install --upgrade openai\n",
    "#%pip install langchain\n",
    "\n",
    "#Update langchain for openai\n",
    "#%pip install -U langchain-openai"
   ]
  },
  {
   "cell_type": "markdown",
   "metadata": {},
   "source": [
    "### API Configuation and Deployed Model Setup\n",
    "##### After installing the necessary libraies, the API must be configured. The code below shows how to configure the API directly in your Python environment."
   ]
  },
  {
   "cell_type": "markdown",
   "metadata": {},
   "source": [
    "### Deployed Model Setup"
   ]
  },
  {
   "cell_type": "code",
   "execution_count": 1,
   "metadata": {},
   "outputs": [],
   "source": [
    "import json\n",
    "import os\n",
    "#from openai import AzureOpenAI\n",
    "from langchain.chat_models import AzureChatOpenAI\n",
    "from langchain_openai import AzureChatOpenAI\n",
    "from langchain.schema import HumanMessage\n",
    "from langchain import LLMChain\n"
   ]
  },
  {
   "cell_type": "code",
   "execution_count": 2,
   "metadata": {},
   "outputs": [
    {
     "name": "stdout",
     "output_type": "stream",
     "text": [
      "Python 3.11.5\n",
      "openai 1.12.0\n",
      "langchain-cli 0.0.20\n"
     ]
    }
   ],
   "source": [
    "\n",
    "!python -V\n",
    "!openai -V\n",
    "!langchain --version -v"
   ]
  },
  {
   "cell_type": "code",
   "execution_count": 3,
   "metadata": {},
   "outputs": [
    {
     "data": {
      "text/plain": [
       "AIMessage(content=\"In the stillness of a moonlit night,\\nWhere dreams take flight in gentle light,\\nI'll weave a tale with words so fine,\\nA poem that dances in your mind.\\n\\nLike whispers of a secret breeze,\\nThis verse will bring you to your knees,\\nA symphony of words, soft and sweet,\\nTo make your heart skip a gentle beat.\\n\\nThrough rolling meadows, fields so green,\\nWhere sunrays kiss the daisy's sheen,\\nI'll paint a picture, vivid and bright,\\nOf nature's beauty, a sheer delight.\\n\\nThe ocean's roar, a soothing sound,\\nAs waves crash upon the sandy ground,\\nI'll capture its essence, wild and free,\\nA rhythm that echoes eternally.\\n\\nIn love's embrace, I'll let you dwell,\\nA tender story I will tell,\\nOf hearts entwined with passion's fire,\\nAn eternal flame that won't expire.\\n\\nBut as all tales must reach an end,\\nI'll bid farewell, my dear friend,\\nKnow that these words were meant for you,\\nA piece of my soul, forever true.\\n\\nSo let this poem be your guide,\\nThrough joy and sorrow, side by side,\\nMay it bring solace, strength, and light,\\nAs we journey through this endless night.\")"
      ]
     },
     "execution_count": 3,
     "metadata": {},
     "output_type": "execute_result"
    }
   ],
   "source": [
    "# Create an instance of chat llm\n",
    "\n",
    "llm = AzureChatOpenAI(\n",
    "    openai_api_version=\"2023-07-01-preview\",\n",
    "    azure_deployment=\"gpt-35-turbo-16k\",\n",
    ")\n",
    "\n",
    "llm.invoke([HumanMessage(content=\"Write me a poem\")])"
   ]
  },
  {
   "cell_type": "markdown",
   "metadata": {},
   "source": [
    "### Prompt Templates\n",
    "##### Langchain provides a built in PromptsTemplate module to simplify the construction of prompts to get more specific answers."
   ]
  },
  {
   "cell_type": "code",
   "execution_count": 5,
   "metadata": {},
   "outputs": [
    {
     "name": "stdout",
     "output_type": "stream",
     "text": [
      "Example #1:\n",
      "content=\"A good face wash for acne-prone skin is one that effectively cleanses the skin, removes excess oil and impurities, and helps to prevent breakouts. Some key ingredients to look for in a face wash for acne-prone skin include salicylic acid, benzoyl peroxide, tea tree oil, and witch hazel. These ingredients have proven to be effective in treating acne and reducing inflammation.\\n\\nOne popular face wash for acne-prone skin is the CeraVe Acne Foaming Cream Cleanser. It contains 4% benzoyl peroxide, which helps to clear acne and prevent future breakouts. It is also non-comedogenic, meaning it won't clog pores, and it is gentle enough for daily use.\\n\\nAnother recommended option is the Neutrogena Oil-Free Acne Wash. This face wash contains salicylic acid, which helps to unclog pores and exfoliate the skin. It effectively removes dirt, oil, and makeup without over-drying the skin.\\n\\nIt is important to note that everyone's skin is unique, so what works for one person may not work for another. It is always a good idea to consult with a dermatologist or skincare professional to determine the best face wash for your specific needs and skin type.\"\n",
      "\n",
      "\n",
      "Example #2:\n",
      "{'text': \"If you're looking for warm weather and beautiful beaches in December, here are a few destinations that you might consider:\\n\\n1. Maldives: With its pristine beaches, crystal-clear turquoise waters, and luxurious resorts, the Maldives is a perfect destination for a tropical getaway.\\n\\n2. Thailand: Thailand offers a variety of beach destinations such as Phuket, Krabi, and Koh Samui. These places offer stunning beaches, vibrant nightlife, and a wide range of water activities.\\n\\n3. Bali, Indonesia: Bali is known for its stunning beaches, lush rice terraces, and vibrant culture. It offers a great combination of relaxation and adventure.\\n\\n4. Seychelles: This archipelago in the Indian Ocean is famous for its white sandy beaches, turquoise waters, and abundant marine life. It's a perfect destination for snorkeling, diving, and beach relaxation.\\n\\n5. Cancun, Mexico: Cancun is a popular beach destination in Mexico with its beautiful Caribbean beaches, vibrant nightlife, and a wide range of activities such as snorkeling, scuba diving, and exploring ancient Mayan ruins.\\n\\nRemember to check travel restrictions, local guidelines, and weather conditions before planning your trip.\"}\n"
     ]
    }
   ],
   "source": [
    "from langchain import PromptTemplate\n",
    "\n",
    "from langchain.prompts.chat import (\n",
    "    ChatPromptTemplate,\n",
    "    SystemMessagePromptTemplate,\n",
    "    HumanMessagePromptTemplate,\n",
    ")\n",
    "\n",
    "\n",
    "# First Example\n",
    "template = \"\"\"\n",
    "You are a skin care consulant that recommends products based on customer\n",
    "needs and preferences.\n",
    "\n",
    "What is a good {product_type} to help with {customer_request}?\n",
    "\"\"\"\n",
    "\n",
    "prompt = PromptTemplate(\n",
    "input_variables=[\"product_type\", \"customer_request\"],\n",
    "template=template,\n",
    ")\n",
    "\n",
    "print(\"Example #1:\")\n",
    "print(llm.invoke([HumanMessage(content=prompt.format(\n",
    "        product_type=\"face wash\",\n",
    "        customer_request = \"acne prone skin\"\n",
    "    ))]\n",
    "))\n",
    "print(\"\\n\")\n",
    "\n",
    "# Second Example\n",
    "system_message = \"You are an AI assistant travel assistant that provides vacation recommendations.\"\n",
    "\n",
    "system_message_prompt = SystemMessagePromptTemplate.from_template(system_message)\n",
    "human_template=\"{text}\"\n",
    "human_message_prompt = HumanMessagePromptTemplate.from_template(human_template)\n",
    "chat_prompt = ChatPromptTemplate.from_messages([system_message_prompt, human_message_prompt])\n",
    "chain = LLMChain(llm=llm, prompt=chat_prompt)\n",
    "result = chain.invoke(f\"Where should I go on vaction in Decemember for warm weather and beaches?\")\n",
    "print(\"Example #2:\")\n",
    "print(result)"
   ]
  },
  {
   "cell_type": "markdown",
   "metadata": {},
   "source": [
    "### Chains\n",
    "##### There are many applications of chains that allow you to combine numerous LLM calls and actions."
   ]
  },
  {
   "cell_type": "markdown",
   "metadata": {},
   "source": [
    "### Simple Sequential Chains\n",
    "##### Allow you to feed the output of one LLM Chain as input for another."
   ]
  },
  {
   "cell_type": "code",
   "execution_count": 6,
   "metadata": {},
   "outputs": [],
   "source": [
    "from langchain.chains import SimpleSequentialChain"
   ]
  },
  {
   "cell_type": "code",
   "execution_count": 7,
   "metadata": {},
   "outputs": [],
   "source": [
    "description_template = \"\"\"Your job is to come up with a fun DIY project for the specified gender, age, and description of a kid.\n",
    "% CHILD_DESCRIPTION\n",
    "{child_description}\n",
    "\n",
    "YOUR RESPONSE:\n",
    "\"\"\"\n",
    "description_prompt_template = PromptTemplate(input_variables=[\"child_description\"], template=description_template)\n",
    "\n",
    "description_chain = LLMChain(llm=llm, prompt=description_prompt_template)"
   ]
  },
  {
   "cell_type": "code",
   "execution_count": 8,
   "metadata": {},
   "outputs": [],
   "source": [
    "diy_description_template = \"\"\"Given a DIY project, give a short and simple recipe step-by-step guide on how to complete the project and a materials list.\n",
    "% DIY_PROJECT\n",
    "{diy_project}\n",
    "\n",
    "YOUR RESPONSE:\n",
    "\"\"\"\n",
    "diy_prompt_template = PromptTemplate(input_variables=[\"diy_project\"], template=diy_description_template)\n",
    "\n",
    "diy_chain = LLMChain(llm=llm, prompt=diy_prompt_template)"
   ]
  },
  {
   "cell_type": "code",
   "execution_count": 9,
   "metadata": {},
   "outputs": [],
   "source": [
    "overall_chain = SimpleSequentialChain(chains=[description_chain, diy_chain], verbose=True)"
   ]
  },
  {
   "cell_type": "code",
   "execution_count": 11,
   "metadata": {},
   "outputs": [
    {
     "name": "stdout",
     "output_type": "stream",
     "text": [
      "\n",
      "\n",
      "\u001b[1m> Entering new SimpleSequentialChain chain...\u001b[0m\n",
      "\u001b[36;1m\u001b[1;3mDIY Princess Crown: \n",
      "Materials needed: \n",
      "- Cardboard\n",
      "- Glitter\n",
      "- Craft glue\n",
      "- Scissors\n",
      "- Decorative gems or stickers\n",
      "- Elastic string or ribbon\n",
      "\n",
      "Instructions:\n",
      "1. Start by cutting a strip of cardboard long enough to fit around the child's head. Make sure to leave a little extra length for overlapping.\n",
      "2. Measure the strip around the child's head to ensure it fits comfortably, then glue the ends together to form a circular shape.\n",
      "3. Cut out a crown shape from the cardboard, making sure it has points or spikes at the top.\n",
      "4. Decorate the crown using craft glue and glitter. You can cover the entire crown in glitter or create patterns and designs.\n",
      "5. Allow the glue to dry completely before moving on to the next step.\n",
      "6. Once the glitter is dry, add decorative gems or stickers to the crown for extra sparkle and flair.\n",
      "7. Finally, attach elastic string or ribbon to the ends of the crown, creating a loop that can be worn around the child's head.\n",
      "8. Help the child put on their DIY princess crown and let them enjoy their royal creation!\n",
      "\n",
      "This DIY project will allow the 5-year-old girl to embrace her creativity and imagination while making her feel like a princess.\u001b[0m\n",
      "\u001b[33;1m\u001b[1;3mMaterials needed: \n",
      "- Cardboard\n",
      "- Glitter\n",
      "- Craft glue\n",
      "- Scissors\n",
      "- Decorative gems or stickers\n",
      "- Elastic string or ribbon\n",
      "\n",
      "Instructions:\n",
      "1. Cut a strip of cardboard long enough to fit around the child's head, leaving extra length for overlapping.\n",
      "2. Measure the strip around the child's head and glue the ends together to form a circular shape.\n",
      "3. Cut out a crown shape from the cardboard, ensuring it has points or spikes at the top.\n",
      "4. Decorate the crown with craft glue and glitter, covering the entire crown or creating patterns.\n",
      "5. Allow the glue to dry completely.\n",
      "6. Add decorative gems or stickers to the crown for extra sparkle.\n",
      "7. Attach elastic string or ribbon to the ends of the crown, creating a loop for wearing.\n",
      "8. Help the child put on their DIY princess crown and let them enjoy their royal creation!\u001b[0m\n",
      "\n",
      "\u001b[1m> Finished chain.\u001b[0m\n"
     ]
    }
   ],
   "source": [
    "review = overall_chain.invoke(\"5-year-old girl\")"
   ]
  }
 ],
 "metadata": {
  "kernelspec": {
   "display_name": "Python 3 (ipykernel)",
   "language": "python",
   "name": "python3"
  },
  "language_info": {
   "codemirror_mode": {
    "name": "ipython",
    "version": 3
   },
   "file_extension": ".py",
   "mimetype": "text/x-python",
   "name": "python",
   "nbconvert_exporter": "python",
   "pygments_lexer": "ipython3",
   "version": "3.11.7"
  }
 },
 "nbformat": 4,
 "nbformat_minor": 4
}
